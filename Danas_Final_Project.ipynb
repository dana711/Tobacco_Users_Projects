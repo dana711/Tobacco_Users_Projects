{
 "cells": [
  {
   "cell_type": "markdown",
   "metadata": {},
   "source": [
    "### Exploratory Data Analysis"
   ]
  },
  {
   "cell_type": "code",
   "execution_count": 1,
   "metadata": {},
   "outputs": [],
   "source": [
    "import pandas as pd\n",
    "import numpy as np\n",
    "import seaborn as sns\n",
    "import matplotlib.pyplot as plt\n",
    "%matplotlib inline\n",
    "plt.rcParams['figure.figsize'] = (8, 6)\n",
    "plt.rcParams['font.size'] = 14\n",
    "plt.style.use(\"fivethirtyeight\")"
   ]
  },
  {
   "cell_type": "code",
   "execution_count": 2,
   "metadata": {},
   "outputs": [],
   "source": [
    "# Read the data and set the prsn_intn_id as the index.\n",
    "\n",
    "tobacco = pd.read_csv('./Tobacco.csv', index_col='PRSN_INTN_ID', parse_dates=True)"
   ]
  },
  {
   "cell_type": "code",
   "execution_count": 3,
   "metadata": {},
   "outputs": [
    {
     "data": {
      "text/html": [
       "<div>\n",
       "<style scoped>\n",
       "    .dataframe tbody tr th:only-of-type {\n",
       "        vertical-align: middle;\n",
       "    }\n",
       "\n",
       "    .dataframe tbody tr th {\n",
       "        vertical-align: top;\n",
       "    }\n",
       "\n",
       "    .dataframe thead th {\n",
       "        text-align: right;\n",
       "    }\n",
       "</style>\n",
       "<table border=\"1\" class=\"dataframe\">\n",
       "  <thead>\n",
       "    <tr style=\"text-align: right;\">\n",
       "      <th></th>\n",
       "      <th>BENEFIT_PROGRAM</th>\n",
       "      <th>EMPL_STATUS</th>\n",
       "      <th>EMPL_CLASS</th>\n",
       "      <th>UNION_CODE</th>\n",
       "      <th>SUPP_LIFE_PLAN</th>\n",
       "      <th>SUPP_LIFE_OPTION</th>\n",
       "      <th>SUPP_LIFE_BEGIN</th>\n",
       "      <th>TOBACCO_USER</th>\n",
       "      <th>BRTH_DT</th>\n",
       "      <th>Age as of 1/1/19</th>\n",
       "      <th>GENDER</th>\n",
       "      <th>SPOUSE</th>\n",
       "      <th>NUM_CHILD</th>\n",
       "      <th>LOCATION</th>\n",
       "      <th>WRK_STATE</th>\n",
       "      <th>ANNUAL_PAY</th>\n",
       "    </tr>\n",
       "    <tr>\n",
       "      <th>PRSN_INTN_ID</th>\n",
       "      <th></th>\n",
       "      <th></th>\n",
       "      <th></th>\n",
       "      <th></th>\n",
       "      <th></th>\n",
       "      <th></th>\n",
       "      <th></th>\n",
       "      <th></th>\n",
       "      <th></th>\n",
       "      <th></th>\n",
       "      <th></th>\n",
       "      <th></th>\n",
       "      <th></th>\n",
       "      <th></th>\n",
       "      <th></th>\n",
       "      <th></th>\n",
       "    </tr>\n",
       "  </thead>\n",
       "  <tbody>\n",
       "    <tr>\n",
       "      <th>10050</th>\n",
       "      <td>WNB</td>\n",
       "      <td>ACTIVE</td>\n",
       "      <td>M</td>\n",
       "      <td>NaN</td>\n",
       "      <td>8954</td>\n",
       "      <td>Opt Out</td>\n",
       "      <td>1/1/2019</td>\n",
       "      <td>N</td>\n",
       "      <td>9/15/1989</td>\n",
       "      <td>29</td>\n",
       "      <td>M</td>\n",
       "      <td>NaN</td>\n",
       "      <td>0</td>\n",
       "      <td>Chase Building  Chicago</td>\n",
       "      <td>IL</td>\n",
       "      <td>96900.00</td>\n",
       "    </tr>\n",
       "    <tr>\n",
       "      <th>10063</th>\n",
       "      <td>WNB</td>\n",
       "      <td>ACTIVE</td>\n",
       "      <td>M</td>\n",
       "      <td>NaN</td>\n",
       "      <td>8954</td>\n",
       "      <td>5 x Pay</td>\n",
       "      <td>1/1/2019</td>\n",
       "      <td>Y</td>\n",
       "      <td>9/7/1976</td>\n",
       "      <td>42</td>\n",
       "      <td>F</td>\n",
       "      <td>S</td>\n",
       "      <td>2</td>\n",
       "      <td>Point Street</td>\n",
       "      <td>MD</td>\n",
       "      <td>78000.00</td>\n",
       "    </tr>\n",
       "    <tr>\n",
       "      <th>100009</th>\n",
       "      <td>WNB</td>\n",
       "      <td>ACTIVE</td>\n",
       "      <td>M</td>\n",
       "      <td>NaN</td>\n",
       "      <td>8954</td>\n",
       "      <td>3 x Pay</td>\n",
       "      <td>1/1/2019</td>\n",
       "      <td>Y</td>\n",
       "      <td>12/7/1967</td>\n",
       "      <td>51</td>\n",
       "      <td>M</td>\n",
       "      <td>S</td>\n",
       "      <td>0</td>\n",
       "      <td>Quad Cities NPS Sta 4</td>\n",
       "      <td>IL</td>\n",
       "      <td>141324.24</td>\n",
       "    </tr>\n",
       "    <tr>\n",
       "      <th>100061</th>\n",
       "      <td>WNB</td>\n",
       "      <td>ACTIVE</td>\n",
       "      <td>M</td>\n",
       "      <td>NaN</td>\n",
       "      <td>8954</td>\n",
       "      <td>Opt Out</td>\n",
       "      <td>1/1/2019</td>\n",
       "      <td>N</td>\n",
       "      <td>1/3/1954</td>\n",
       "      <td>65</td>\n",
       "      <td>M</td>\n",
       "      <td>S</td>\n",
       "      <td>3</td>\n",
       "      <td>Quad Cities NPS Sta 4</td>\n",
       "      <td>IL</td>\n",
       "      <td>103866.84</td>\n",
       "    </tr>\n",
       "    <tr>\n",
       "      <th>361800052</th>\n",
       "      <td>OMC</td>\n",
       "      <td>ACTIVE</td>\n",
       "      <td>H</td>\n",
       "      <td>NaN</td>\n",
       "      <td>8954</td>\n",
       "      <td>8 x Pay</td>\n",
       "      <td>1/1/2019</td>\n",
       "      <td>Y</td>\n",
       "      <td>7/22/1999</td>\n",
       "      <td>19</td>\n",
       "      <td>M</td>\n",
       "      <td>NaN</td>\n",
       "      <td>0</td>\n",
       "      <td>Lord Baltimore Building</td>\n",
       "      <td>MD</td>\n",
       "      <td>47059.68</td>\n",
       "    </tr>\n",
       "  </tbody>\n",
       "</table>\n",
       "</div>"
      ],
      "text/plain": [
       "             BENEFIT_PROGRAM EMPL_STATUS EMPL_CLASS UNION_CODE  \\\n",
       "PRSN_INTN_ID                                                     \n",
       "10050                    WNB      ACTIVE          M        NaN   \n",
       "10063                    WNB      ACTIVE          M        NaN   \n",
       "100009                   WNB      ACTIVE          M        NaN   \n",
       "100061                   WNB      ACTIVE          M        NaN   \n",
       "361800052                OMC      ACTIVE          H        NaN   \n",
       "\n",
       "              SUPP_LIFE_PLAN SUPP_LIFE_OPTION SUPP_LIFE_BEGIN TOBACCO_USER  \\\n",
       "PRSN_INTN_ID                                                                 \n",
       "10050                   8954          Opt Out        1/1/2019            N   \n",
       "10063                   8954          5 x Pay        1/1/2019            Y   \n",
       "100009                  8954          3 x Pay        1/1/2019            Y   \n",
       "100061                  8954          Opt Out        1/1/2019            N   \n",
       "361800052               8954          8 x Pay        1/1/2019            Y   \n",
       "\n",
       "                BRTH_DT  Age as of 1/1/19 GENDER SPOUSE  NUM_CHILD  \\\n",
       "PRSN_INTN_ID                                                         \n",
       "10050         9/15/1989                29      M    NaN          0   \n",
       "10063          9/7/1976                42      F      S          2   \n",
       "100009        12/7/1967                51      M      S          0   \n",
       "100061         1/3/1954                65      M      S          3   \n",
       "361800052     7/22/1999                19      M    NaN          0   \n",
       "\n",
       "                             LOCATION WRK_STATE  ANNUAL_PAY  \n",
       "PRSN_INTN_ID                                                 \n",
       "10050         Chase Building  Chicago        IL    96900.00  \n",
       "10063                    Point Street        MD    78000.00  \n",
       "100009          Quad Cities NPS Sta 4        IL   141324.24  \n",
       "100061          Quad Cities NPS Sta 4        IL   103866.84  \n",
       "361800052     Lord Baltimore Building        MD    47059.68  "
      ]
     },
     "execution_count": 3,
     "metadata": {},
     "output_type": "execute_result"
    }
   ],
   "source": [
    "tobacco.head()"
   ]
  },
  {
   "cell_type": "code",
   "execution_count": 4,
   "metadata": {},
   "outputs": [
    {
     "data": {
      "text/plain": [
       "BENEFIT_PROGRAM      object\n",
       "EMPL_STATUS          object\n",
       "EMPL_CLASS           object\n",
       "UNION_CODE           object\n",
       "SUPP_LIFE_PLAN        int64\n",
       "SUPP_LIFE_OPTION     object\n",
       "SUPP_LIFE_BEGIN      object\n",
       "TOBACCO_USER         object\n",
       "BRTH_DT              object\n",
       "Age as of 1/1/19      int64\n",
       "GENDER               object\n",
       "SPOUSE               object\n",
       "NUM_CHILD             int64\n",
       "LOCATION             object\n",
       "WRK_STATE            object\n",
       "ANNUAL_PAY          float64\n",
       "dtype: object"
      ]
     },
     "execution_count": 4,
     "metadata": {},
     "output_type": "execute_result"
    }
   ],
   "source": [
    "#what are the data types?\n",
    "tobacco.dtypes"
   ]
  },
  {
   "cell_type": "code",
   "execution_count": 5,
   "metadata": {},
   "outputs": [
    {
     "data": {
      "text/plain": [
       "(28558, 16)"
      ]
     },
     "execution_count": 5,
     "metadata": {},
     "output_type": "execute_result"
    }
   ],
   "source": [
    "# Number of rows and columns (.shape)\n",
    "tobacco.shape"
   ]
  },
  {
   "cell_type": "code",
   "execution_count": 6,
   "metadata": {},
   "outputs": [
    {
     "name": "stdout",
     "output_type": "stream",
     "text": [
      "<class 'pandas.core.frame.DataFrame'>\n",
      "Int64Index: 28558 entries, 10050 to 499900038\n",
      "Data columns (total 16 columns):\n",
      "BENEFIT_PROGRAM     28558 non-null object\n",
      "EMPL_STATUS         28558 non-null object\n",
      "EMPL_CLASS          28558 non-null object\n",
      "UNION_CODE          6366 non-null object\n",
      "SUPP_LIFE_PLAN      28558 non-null int64\n",
      "SUPP_LIFE_OPTION    28558 non-null object\n",
      "SUPP_LIFE_BEGIN     28558 non-null object\n",
      "TOBACCO_USER        25161 non-null object\n",
      "BRTH_DT             28558 non-null object\n",
      "Age as of 1/1/19    28558 non-null int64\n",
      "GENDER              28558 non-null object\n",
      "SPOUSE              20635 non-null object\n",
      "NUM_CHILD           28558 non-null int64\n",
      "LOCATION            28536 non-null object\n",
      "WRK_STATE           28366 non-null object\n",
      "ANNUAL_PAY          28558 non-null float64\n",
      "dtypes: float64(1), int64(3), object(12)\n",
      "memory usage: 3.7+ MB\n"
     ]
    }
   ],
   "source": [
    "tobacco.info()"
   ]
  },
  {
   "cell_type": "code",
   "execution_count": 7,
   "metadata": {
    "scrolled": true
   },
   "outputs": [
    {
     "data": {
      "text/plain": [
       "BENEFIT_PROGRAM         0\n",
       "EMPL_STATUS             0\n",
       "EMPL_CLASS              0\n",
       "UNION_CODE          22192\n",
       "SUPP_LIFE_PLAN          0\n",
       "SUPP_LIFE_OPTION        0\n",
       "SUPP_LIFE_BEGIN         0\n",
       "TOBACCO_USER         3397\n",
       "BRTH_DT                 0\n",
       "Age as of 1/1/19        0\n",
       "GENDER                  0\n",
       "SPOUSE               7923\n",
       "NUM_CHILD               0\n",
       "LOCATION               22\n",
       "WRK_STATE             192\n",
       "ANNUAL_PAY              0\n",
       "dtype: int64"
      ]
     },
     "execution_count": 7,
     "metadata": {},
     "output_type": "execute_result"
    }
   ],
   "source": [
    "#check for null values\n",
    "tobacco.isnull().sum()"
   ]
  },
  {
   "cell_type": "code",
   "execution_count": 8,
   "metadata": {},
   "outputs": [],
   "source": [
    "# Rename Age as of 1/1/19 column to AGE\n",
    "tobacco.rename(columns={'Age as of 1/1/19':'AGE'}, inplace=True)"
   ]
  },
  {
   "cell_type": "code",
   "execution_count": 9,
   "metadata": {},
   "outputs": [
    {
     "data": {
      "text/plain": [
       "10      1197\n",
       "1900    1028\n",
       "1238     533\n",
       "23       474\n",
       "210      362\n",
       "1307     258\n",
       "4        253\n",
       "37       226\n",
       "11       198\n",
       "2        187\n",
       "15       149\n",
       "16       134\n",
       "18       133\n",
       "19       120\n",
       "13       119\n",
       "20       111\n",
       "238A     109\n",
       "21       106\n",
       "17       103\n",
       "14        96\n",
       "3         96\n",
       "38        93\n",
       "9         84\n",
       "307A      53\n",
       "24        38\n",
       "25        31\n",
       "2105      26\n",
       "40        25\n",
       "7         17\n",
       "1          4\n",
       "NONE       2\n",
       "NM         1\n",
       "Name: UNION_CODE, dtype: int64"
      ]
     },
     "execution_count": 9,
     "metadata": {},
     "output_type": "execute_result"
    }
   ],
   "source": [
    "#find the different values for UNION_CODE to see what we want to populate the blanks with\n",
    "\n",
    "tobacco['UNION_CODE'].value_counts()"
   ]
  },
  {
   "cell_type": "code",
   "execution_count": 10,
   "metadata": {},
   "outputs": [],
   "source": [
    "#Union Code can be a blank value - I need to give it a default value if currently blank\n",
    "tobacco['UNION_CODE'].fillna('N', inplace=True)"
   ]
  },
  {
   "cell_type": "code",
   "execution_count": 11,
   "metadata": {},
   "outputs": [],
   "source": [
    "#assign Y if in a Union, N if not (a blank (now N from previous code) or NONE)\n",
    "tobacco['UNION_CODE'] = tobacco['UNION_CODE'].apply(lambda x: 'N' \n",
    "                                                           if x in ('NONE','N')\n",
    "                                                           else 'Y')"
   ]
  },
  {
   "cell_type": "code",
   "execution_count": 12,
   "metadata": {},
   "outputs": [
    {
     "data": {
      "text/plain": [
       "N    22194\n",
       "Y     6364\n",
       "Name: UNION_CODE, dtype: int64"
      ]
     },
     "execution_count": 12,
     "metadata": {},
     "output_type": "execute_result"
    }
   ],
   "source": [
    "#confirm union code was updated as expected - NONE increase and no blanks\n",
    "tobacco['UNION_CODE'].value_counts()"
   ]
  },
  {
   "cell_type": "code",
   "execution_count": 13,
   "metadata": {},
   "outputs": [
    {
     "data": {
      "text/plain": [
       "BENEFIT_PROGRAM        0\n",
       "EMPL_STATUS            0\n",
       "EMPL_CLASS             0\n",
       "UNION_CODE             0\n",
       "SUPP_LIFE_PLAN         0\n",
       "SUPP_LIFE_OPTION       0\n",
       "SUPP_LIFE_BEGIN        0\n",
       "TOBACCO_USER        3397\n",
       "BRTH_DT                0\n",
       "AGE                    0\n",
       "GENDER                 0\n",
       "SPOUSE              7923\n",
       "NUM_CHILD              0\n",
       "LOCATION              22\n",
       "WRK_STATE            192\n",
       "ANNUAL_PAY             0\n",
       "dtype: int64"
      ]
     },
     "execution_count": 13,
     "metadata": {},
     "output_type": "execute_result"
    }
   ],
   "source": [
    "#check for null values\n",
    "tobacco.isnull().sum()"
   ]
  },
  {
   "cell_type": "code",
   "execution_count": 14,
   "metadata": {},
   "outputs": [],
   "source": [
    "#Spouse can be a blank value - I need to give it a default value if currently blank\n",
    "tobacco['SPOUSE'].fillna('N', inplace=True)"
   ]
  },
  {
   "cell_type": "code",
   "execution_count": 15,
   "metadata": {},
   "outputs": [
    {
     "data": {
      "text/plain": [
       "S     19363\n",
       "N      7923\n",
       "DP     1272\n",
       "Name: SPOUSE, dtype: int64"
      ]
     },
     "execution_count": 15,
     "metadata": {},
     "output_type": "execute_result"
    }
   ],
   "source": [
    "#confirm Spouse was updated as expected - NONE increase and no blanks\n",
    "tobacco['SPOUSE'].value_counts()"
   ]
  },
  {
   "cell_type": "code",
   "execution_count": 16,
   "metadata": {},
   "outputs": [],
   "source": [
    "#assign Y if they have a 'S'pouse or Domestic Partner (DP), or keep N if no spouse\n",
    "tobacco['SPOUSE'] = tobacco['SPOUSE'].apply(lambda x: 'Y' \n",
    "                                            if x in ('S','DP')\n",
    "                                            else x)"
   ]
  },
  {
   "cell_type": "code",
   "execution_count": 17,
   "metadata": {},
   "outputs": [
    {
     "data": {
      "text/plain": [
       "Y    20635\n",
       "N     7923\n",
       "Name: SPOUSE, dtype: int64"
      ]
     },
     "execution_count": 17,
     "metadata": {},
     "output_type": "execute_result"
    }
   ],
   "source": [
    "#confirm SPOUSE was updated as expected\n",
    "tobacco['SPOUSE'].value_counts()"
   ]
  },
  {
   "cell_type": "code",
   "execution_count": 18,
   "metadata": {},
   "outputs": [
    {
     "data": {
      "text/plain": [
       "BENEFIT_PROGRAM        0\n",
       "EMPL_STATUS            0\n",
       "EMPL_CLASS             0\n",
       "UNION_CODE             0\n",
       "SUPP_LIFE_PLAN         0\n",
       "SUPP_LIFE_OPTION       0\n",
       "SUPP_LIFE_BEGIN        0\n",
       "TOBACCO_USER        3397\n",
       "BRTH_DT                0\n",
       "AGE                    0\n",
       "GENDER                 0\n",
       "SPOUSE                 0\n",
       "NUM_CHILD              0\n",
       "LOCATION              22\n",
       "WRK_STATE            192\n",
       "ANNUAL_PAY             0\n",
       "dtype: int64"
      ]
     },
     "execution_count": 18,
     "metadata": {},
     "output_type": "execute_result"
    }
   ],
   "source": [
    "#check for null values\n",
    "tobacco.isnull().sum()"
   ]
  },
  {
   "cell_type": "code",
   "execution_count": 19,
   "metadata": {},
   "outputs": [],
   "source": [
    "#Location and Work State can be a blank value - I need to give it a default value if currently blank\n",
    "tobacco['LOCATION'].fillna('NA', inplace=True)\n",
    "tobacco['WRK_STATE'].fillna('NA', inplace=True)"
   ]
  },
  {
   "cell_type": "code",
   "execution_count": 20,
   "metadata": {},
   "outputs": [
    {
     "data": {
      "text/plain": [
       "Point Street                      1187\n",
       "PECO Main Office Building         1008\n",
       "Limerick NPS                       952\n",
       "Nine Mile Point                    910\n",
       "Peach Bottom APS                   899\n",
       "Calvert Cliffs                     848\n",
       "New Castle Regional Office         699\n",
       "Clinton Power Station              689\n",
       "Edison Place                       675\n",
       "2 Lincoln Centre                   671\n",
       "Chase Building  Chicago            645\n",
       "FitzPatrick NPP                    623\n",
       "SGC-Office Storage Facility        612\n",
       "Three Mile Island NPS              603\n",
       "Dresden NPS Sta 12                 540\n",
       "Lord Baltimore Building            537\n",
       "Quad Cities NPS Sta 4              537\n",
       "BGE Home-Tangier Drive             532\n",
       "LaSalle NPS Sta 1                  526\n",
       "Gas & Electric Building            524\n",
       "Byron NPS Sta 6                    500\n",
       "Braidwood NPS Sta 20               462\n",
       "GINNA Station                      442\n",
       "Exelon Generation at Cantera       426\n",
       "3 Lincoln Centre                   415\n",
       "Kennett Square 200                 402\n",
       "FSC-Front Street                   394\n",
       "Carneys Point                      336\n",
       "4HoustCtr                          334\n",
       "Oyster Creek NPS                   332\n",
       "                                  ... \n",
       "Sterling Reporting Center            1\n",
       "Lamokin Substaion                    1\n",
       "1st Fl LBB                           1\n",
       "Muddy Run Site                       1\n",
       "IES - Midlothian  VA                 1\n",
       "KNLWRTH                              1\n",
       "Rutherford Bus Ctr South             1\n",
       "Gould St                             1\n",
       "G&E Bldg - 11th Floor - Drop A       1\n",
       "IES - Traverse City  MI              1\n",
       "Ft. Smallwood Rd Shops               1\n",
       "Pulsar Place OH                      1\n",
       "COSI-Rio Bravo-Jasmin                1\n",
       "Chase Building, Chicago              1\n",
       "Brandon Shrs Fld Off                 1\n",
       "Unicom Energy-Charlevoix(MI)         1\n",
       "Rhode Island State Cap Blding        1\n",
       "G&E Bldg - 8th Floor - Drop A        1\n",
       "Genoa Reporting Center               1\n",
       "LANHAM                               1\n",
       "Exelon Energy - Macomb               1\n",
       "CNEP - Austin                        1\n",
       "Spring Gardens Call Center           1\n",
       "Ofp                                  1\n",
       "Exelon Energy - Highland(MI)         1\n",
       "Brandon Shrs Station                 1\n",
       "Nuclear Energy Institute             1\n",
       "MX Energy Annapolis Junction         1\n",
       "Corp Hdqtrs 46th Flr NW              1\n",
       "MOB South 19th fl- loc 3             1\n",
       "Name: LOCATION, Length: 341, dtype: int64"
      ]
     },
     "execution_count": 20,
     "metadata": {},
     "output_type": "execute_result"
    }
   ],
   "source": [
    "#confirm union code was updated as expected - NONE increase and no blanks\n",
    "tobacco['LOCATION'].value_counts()"
   ]
  },
  {
   "cell_type": "code",
   "execution_count": 21,
   "metadata": {},
   "outputs": [
    {
     "data": {
      "text/plain": [
       "IL    7489\n",
       "MD    7273\n",
       "PA    6255\n",
       "NY    2041\n",
       "DC    1418\n",
       "NJ    1375\n",
       "DE    1191\n",
       "TX     507\n",
       "MA     227\n",
       "NA     192\n",
       "WI     161\n",
       "KY      95\n",
       "TN      49\n",
       "CA      44\n",
       "GA      35\n",
       "MI      30\n",
       "AL      28\n",
       "OH      21\n",
       "IA      18\n",
       "KS      13\n",
       "FL      10\n",
       "CT       9\n",
       "IN       9\n",
       "NE       8\n",
       "NH       7\n",
       "NC       7\n",
       "MN       6\n",
       "SC       6\n",
       "VA       5\n",
       "UT       4\n",
       "AZ       4\n",
       "NV       4\n",
       "CO       3\n",
       "MO       3\n",
       "AR       2\n",
       "OR       2\n",
       "OK       2\n",
       "WA       2\n",
       "RI       1\n",
       "WY       1\n",
       "ID       1\n",
       "Name: WRK_STATE, dtype: int64"
      ]
     },
     "execution_count": 21,
     "metadata": {},
     "output_type": "execute_result"
    }
   ],
   "source": [
    "#confirm union code was updated as expected - NONE increase and no blanks\n",
    "tobacco['WRK_STATE'].value_counts()"
   ]
  },
  {
   "cell_type": "code",
   "execution_count": 22,
   "metadata": {},
   "outputs": [
    {
     "data": {
      "text/plain": [
       "BENEFIT_PROGRAM        0\n",
       "EMPL_STATUS            0\n",
       "EMPL_CLASS             0\n",
       "UNION_CODE             0\n",
       "SUPP_LIFE_PLAN         0\n",
       "SUPP_LIFE_OPTION       0\n",
       "SUPP_LIFE_BEGIN        0\n",
       "TOBACCO_USER        3397\n",
       "BRTH_DT                0\n",
       "AGE                    0\n",
       "GENDER                 0\n",
       "SPOUSE                 0\n",
       "NUM_CHILD              0\n",
       "LOCATION               0\n",
       "WRK_STATE              0\n",
       "ANNUAL_PAY             0\n",
       "dtype: int64"
      ]
     },
     "execution_count": 22,
     "metadata": {},
     "output_type": "execute_result"
    }
   ],
   "source": [
    "tobacco.isnull().sum()"
   ]
  },
  {
   "cell_type": "code",
   "execution_count": 23,
   "metadata": {},
   "outputs": [],
   "source": [
    "#Tobacco code can be a blank value if in No Coverage Option\n",
    "#If enrolled in No Coverage, we do not want to count that row - drop these records from the file\n",
    "#Since we have cleaned up all of the other null values, we can now do this:\n",
    "\n",
    "tobacco.dropna(inplace=True)\n"
   ]
  },
  {
   "cell_type": "code",
   "execution_count": 24,
   "metadata": {},
   "outputs": [
    {
     "data": {
      "text/plain": [
       "BENEFIT_PROGRAM     0\n",
       "EMPL_STATUS         0\n",
       "EMPL_CLASS          0\n",
       "UNION_CODE          0\n",
       "SUPP_LIFE_PLAN      0\n",
       "SUPP_LIFE_OPTION    0\n",
       "SUPP_LIFE_BEGIN     0\n",
       "TOBACCO_USER        0\n",
       "BRTH_DT             0\n",
       "AGE                 0\n",
       "GENDER              0\n",
       "SPOUSE              0\n",
       "NUM_CHILD           0\n",
       "LOCATION            0\n",
       "WRK_STATE           0\n",
       "ANNUAL_PAY          0\n",
       "dtype: int64"
      ]
     },
     "execution_count": 24,
     "metadata": {},
     "output_type": "execute_result"
    }
   ],
   "source": [
    "tobacco.isnull().sum()"
   ]
  },
  {
   "cell_type": "code",
   "execution_count": 25,
   "metadata": {},
   "outputs": [
    {
     "data": {
      "text/plain": [
       "(25161, 16)"
      ]
     },
     "execution_count": 25,
     "metadata": {},
     "output_type": "execute_result"
    }
   ],
   "source": [
    "#verify dataframe information now that we dropped rows:\n",
    "\n",
    "tobacco.shape"
   ]
  },
  {
   "cell_type": "code",
   "execution_count": 26,
   "metadata": {},
   "outputs": [
    {
     "data": {
      "text/plain": [
       "N    16189\n",
       "Y     8972\n",
       "Name: TOBACCO_USER, dtype: int64"
      ]
     },
     "execution_count": 26,
     "metadata": {},
     "output_type": "execute_result"
    }
   ],
   "source": [
    "tobacco['TOBACCO_USER'].value_counts()"
   ]
  },
  {
   "cell_type": "code",
   "execution_count": 27,
   "metadata": {
    "scrolled": true
   },
   "outputs": [
    {
     "data": {
      "image/png": "[encoded data removed]",
      "text/plain": [
       "<Figure size 432x288 with 1 Axes>"
      ]
     },
     "metadata": {
      "needs_background": "light"
     },
     "output_type": "display_data"
    }
   ],
   "source": [
    "#tobacco users across entire population\n",
    "tobacco['TOBACCO_USER'].value_counts().plot(kind='bar');"
   ]
  },
  {
   "cell_type": "code",
   "execution_count": 28,
   "metadata": {},
   "outputs": [
    {
     "data": {
      "image/png": "[encoded data removed]",
      "text/plain": [
       "<Figure size 720x720 with 1 Axes>"
      ]
     },
     "metadata": {
      "needs_background": "light"
     },
     "output_type": "display_data"
    }
   ],
   "source": [
    "#tobacco users across management/non-union population\n",
    "\n",
    "tobacco[tobacco['UNION_CODE'] == 'N']['TOBACCO_USER'].value_counts().plot(kind='bar',figsize=(10,10));\n",
    "plt.xlabel('Smoker');\n",
    "plt.ylabel('Number of employees');\n",
    "plt.title('Management Employee Smoker Data');\n",
    "plt.savefig('./Plots/mgmt_bar.png')"
   ]
  },
  {
   "cell_type": "code",
   "execution_count": 29,
   "metadata": {
    "scrolled": true
   },
   "outputs": [
    {
     "data": {
      "image/png": "[encoded data removed]",
      "text/plain": [
       "<Figure size 720x720 with 1 Axes>"
      ]
     },
     "metadata": {
      "needs_background": "light"
     },
     "output_type": "display_data"
    }
   ],
   "source": [
    "#tobacco users across union population\n",
    "\n",
    "tobacco[tobacco['UNION_CODE'] == 'Y']['TOBACCO_USER'].value_counts().plot(kind='bar',figsize=(10,10));\n",
    "plt.xlabel('Smoker');\n",
    "plt.ylabel('Number of employees');\n",
    "plt.title('Union Employee Smoker Data');\n",
    "plt.savefig('./Plots/union_bar.png')"
   ]
  },
  {
   "cell_type": "code",
   "execution_count": 30,
   "metadata": {},
   "outputs": [
    {
     "data": {
      "text/plain": [
       "MD    6421\n",
       "IL    6401\n",
       "PA    5298\n",
       "NY    1852\n",
       "DC    1398\n",
       "NJ    1290\n",
       "DE    1181\n",
       "TX     424\n",
       "MA     206\n",
       "NA     166\n",
       "WI     152\n",
       "KY      81\n",
       "TN      44\n",
       "CA      37\n",
       "GA      35\n",
       "MI      29\n",
       "AL      26\n",
       "OH      18\n",
       "IA      15\n",
       "KS      12\n",
       "FL       9\n",
       "CT       8\n",
       "NC       7\n",
       "NE       6\n",
       "MN       6\n",
       "NH       5\n",
       "NV       4\n",
       "SC       4\n",
       "VA       4\n",
       "AZ       4\n",
       "IN       3\n",
       "AR       2\n",
       "OR       2\n",
       "OK       2\n",
       "CO       2\n",
       "MO       2\n",
       "UT       2\n",
       "RI       1\n",
       "WA       1\n",
       "WY       1\n",
       "Name: WRK_STATE, dtype: int64"
      ]
     },
     "execution_count": 30,
     "metadata": {},
     "output_type": "execute_result"
    }
   ],
   "source": [
    "tobacco['WRK_STATE'].value_counts()"
   ]
  },
  {
   "cell_type": "code",
   "execution_count": 31,
   "metadata": {},
   "outputs": [
    {
     "data": {
      "image/png": "[encoded data removed]",
      "text/plain": [
       "<Figure size 576x576 with 1 Axes>"
      ]
     },
     "metadata": {
      "needs_background": "light"
     },
     "output_type": "display_data"
    }
   ],
   "source": [
    "#all workers by state:\n",
    "\n",
    "tobacco['WRK_STATE'].value_counts().plot(kind='barh',figsize=(8,8));\n",
    "plt.xlabel('Number of Employees');\n",
    "plt.title('Employee Counts by State');\n",
    "plt.savefig('./Plots/all_state_barh.png')"
   ]
  },
  {
   "cell_type": "code",
   "execution_count": 32,
   "metadata": {},
   "outputs": [
    {
     "data": {
      "image/png": "[encoded data removed]",
      "text/plain": [
       "<Figure size 576x576 with 1 Axes>"
      ]
     },
     "metadata": {
      "needs_background": "light"
     },
     "output_type": "display_data"
    }
   ],
   "source": [
    "#management/non-union smokers by state:\n",
    "\n",
    "tobacco[tobacco['UNION_CODE'] == 'N']['WRK_STATE'].value_counts().plot(kind='barh',figsize=(8,8));\n",
    "plt.xlabel('Number of Smokers');\n",
    "plt.title('Management Employee Smoker Data by State');\n",
    "plt.savefig('./Plots/mgmt_state_barh.png')"
   ]
  },
  {
   "cell_type": "code",
   "execution_count": 33,
   "metadata": {},
   "outputs": [
    {
     "data": {
      "image/png": "[encoded data removed]",
      "text/plain": [
       "<Figure size 576x576 with 1 Axes>"
      ]
     },
     "metadata": {
      "needs_background": "light"
     },
     "output_type": "display_data"
    }
   ],
   "source": [
    "#union smokers by state:\n",
    "\n",
    "tobacco[tobacco['UNION_CODE'] == 'Y']['WRK_STATE'].value_counts().plot(kind='barh',figsize=(8,8));\n",
    "plt.xlabel('Number of Smokers');\n",
    "plt.title('Union Employee Smoker Data by State');\n",
    "plt.savefig('./Plots/union_state_barh.png')"
   ]
  },
  {
   "cell_type": "code",
   "execution_count": 34,
   "metadata": {},
   "outputs": [
    {
     "data": {
      "image/png": "[encoded data removed]",
      "text/plain": [
       "<Figure size 576x576 with 1 Axes>"
      ]
     },
     "metadata": {
      "needs_background": "light"
     },
     "output_type": "display_data"
    }
   ],
   "source": [
    "#union smokers by gender:\n",
    "\n",
    "tobacco[tobacco['UNION_CODE'] == 'Y']['GENDER'].value_counts().plot(kind='bar',figsize=(8,8));\n",
    "plt.xlabel('Gender');\n",
    "plt.title('Union Employee Smoker Data by Gender');\n",
    "plt.savefig('./Plots/union_gender_bar.png')"
   ]
  },
  {
   "cell_type": "code",
   "execution_count": null,
   "metadata": {},
   "outputs": [],
   "source": []
  },
  {
   "cell_type": "code",
   "execution_count": null,
   "metadata": {},
   "outputs": [],
   "source": []
  },
  {
   "cell_type": "code",
   "execution_count": null,
   "metadata": {},
   "outputs": [],
   "source": []
  },
  {
   "cell_type": "code",
   "execution_count": null,
   "metadata": {},
   "outputs": [],
   "source": []
  },
  {
   "cell_type": "markdown",
   "metadata": {},
   "source": [
    "### Now that the data has been explored, \n",
    "### we need to set 1/0's for Y/N values to be able to use them in our modeling\n"
   ]
  },
  {
   "cell_type": "markdown",
   "metadata": {},
   "source": [
    "Set Gender to be 1/0's so it can be used in model:\n",
    "\n",
    "M = 1\n",
    "F = 0"
   ]
  },
  {
   "cell_type": "code",
   "execution_count": 35,
   "metadata": {},
   "outputs": [],
   "source": [
    "gender_dummies = pd.get_dummies(tobacco.GENDER, prefix='GENDER')"
   ]
  },
  {
   "cell_type": "code",
   "execution_count": 36,
   "metadata": {},
   "outputs": [
    {
     "data": {
      "text/html": [
       "<div>\n",
       "<style scoped>\n",
       "    .dataframe tbody tr th:only-of-type {\n",
       "        vertical-align: middle;\n",
       "    }\n",
       "\n",
       "    .dataframe tbody tr th {\n",
       "        vertical-align: top;\n",
       "    }\n",
       "\n",
       "    .dataframe thead th {\n",
       "        text-align: right;\n",
       "    }\n",
       "</style>\n",
       "<table border=\"1\" class=\"dataframe\">\n",
       "  <thead>\n",
       "    <tr style=\"text-align: right;\">\n",
       "      <th></th>\n",
       "      <th>GENDER_F</th>\n",
       "      <th>GENDER_M</th>\n",
       "    </tr>\n",
       "    <tr>\n",
       "      <th>PRSN_INTN_ID</th>\n",
       "      <th></th>\n",
       "      <th></th>\n",
       "    </tr>\n",
       "  </thead>\n",
       "  <tbody>\n",
       "    <tr>\n",
       "      <th>10050</th>\n",
       "      <td>0</td>\n",
       "      <td>1</td>\n",
       "    </tr>\n",
       "    <tr>\n",
       "      <th>10063</th>\n",
       "      <td>1</td>\n",
       "      <td>0</td>\n",
       "    </tr>\n",
       "    <tr>\n",
       "      <th>100009</th>\n",
       "      <td>0</td>\n",
       "      <td>1</td>\n",
       "    </tr>\n",
       "    <tr>\n",
       "      <th>100061</th>\n",
       "      <td>0</td>\n",
       "      <td>1</td>\n",
       "    </tr>\n",
       "    <tr>\n",
       "      <th>361800052</th>\n",
       "      <td>0</td>\n",
       "      <td>1</td>\n",
       "    </tr>\n",
       "  </tbody>\n",
       "</table>\n",
       "</div>"
      ],
      "text/plain": [
       "              GENDER_F  GENDER_M\n",
       "PRSN_INTN_ID                    \n",
       "10050                0         1\n",
       "10063                1         0\n",
       "100009               0         1\n",
       "100061               0         1\n",
       "361800052            0         1"
      ]
     },
     "execution_count": 36,
     "metadata": {},
     "output_type": "execute_result"
    }
   ],
   "source": [
    "gender_dummies.head()"
   ]
  },
  {
   "cell_type": "code",
   "execution_count": 37,
   "metadata": {},
   "outputs": [],
   "source": [
    "#drop the GENDER_F column so we can test just if the employee is Male\n",
    "gender_dummies.drop(gender_dummies.columns[0], axis=1, inplace=True)"
   ]
  },
  {
   "cell_type": "code",
   "execution_count": 38,
   "metadata": {},
   "outputs": [
    {
     "data": {
      "text/html": [
       "<div>\n",
       "<style scoped>\n",
       "    .dataframe tbody tr th:only-of-type {\n",
       "        vertical-align: middle;\n",
       "    }\n",
       "\n",
       "    .dataframe tbody tr th {\n",
       "        vertical-align: top;\n",
       "    }\n",
       "\n",
       "    .dataframe thead th {\n",
       "        text-align: right;\n",
       "    }\n",
       "</style>\n",
       "<table border=\"1\" class=\"dataframe\">\n",
       "  <thead>\n",
       "    <tr style=\"text-align: right;\">\n",
       "      <th></th>\n",
       "      <th>GENDER_M</th>\n",
       "    </tr>\n",
       "    <tr>\n",
       "      <th>PRSN_INTN_ID</th>\n",
       "      <th></th>\n",
       "    </tr>\n",
       "  </thead>\n",
       "  <tbody>\n",
       "    <tr>\n",
       "      <th>10050</th>\n",
       "      <td>1</td>\n",
       "    </tr>\n",
       "    <tr>\n",
       "      <th>10063</th>\n",
       "      <td>0</td>\n",
       "    </tr>\n",
       "    <tr>\n",
       "      <th>100009</th>\n",
       "      <td>1</td>\n",
       "    </tr>\n",
       "    <tr>\n",
       "      <th>100061</th>\n",
       "      <td>1</td>\n",
       "    </tr>\n",
       "    <tr>\n",
       "      <th>361800052</th>\n",
       "      <td>1</td>\n",
       "    </tr>\n",
       "  </tbody>\n",
       "</table>\n",
       "</div>"
      ],
      "text/plain": [
       "              GENDER_M\n",
       "PRSN_INTN_ID          \n",
       "10050                1\n",
       "10063                0\n",
       "100009               1\n",
       "100061               1\n",
       "361800052            1"
      ]
     },
     "execution_count": 38,
     "metadata": {},
     "output_type": "execute_result"
    }
   ],
   "source": [
    "gender_dummies.head()"
   ]
  },
  {
   "cell_type": "code",
   "execution_count": 39,
   "metadata": {},
   "outputs": [
    {
     "data": {
      "text/html": [
       "<div>\n",
       "<style scoped>\n",
       "    .dataframe tbody tr th:only-of-type {\n",
       "        vertical-align: middle;\n",
       "    }\n",
       "\n",
       "    .dataframe tbody tr th {\n",
       "        vertical-align: top;\n",
       "    }\n",
       "\n",
       "    .dataframe thead th {\n",
       "        text-align: right;\n",
       "    }\n",
       "</style>\n",
       "<table border=\"1\" class=\"dataframe\">\n",
       "  <thead>\n",
       "    <tr style=\"text-align: right;\">\n",
       "      <th></th>\n",
       "      <th>BENEFIT_PROGRAM</th>\n",
       "      <th>EMPL_STATUS</th>\n",
       "      <th>EMPL_CLASS</th>\n",
       "      <th>UNION_CODE</th>\n",
       "      <th>SUPP_LIFE_PLAN</th>\n",
       "      <th>SUPP_LIFE_OPTION</th>\n",
       "      <th>SUPP_LIFE_BEGIN</th>\n",
       "      <th>TOBACCO_USER</th>\n",
       "      <th>BRTH_DT</th>\n",
       "      <th>AGE</th>\n",
       "      <th>GENDER</th>\n",
       "      <th>SPOUSE</th>\n",
       "      <th>NUM_CHILD</th>\n",
       "      <th>LOCATION</th>\n",
       "      <th>WRK_STATE</th>\n",
       "      <th>ANNUAL_PAY</th>\n",
       "      <th>GENDER_M</th>\n",
       "    </tr>\n",
       "    <tr>\n",
       "      <th>PRSN_INTN_ID</th>\n",
       "      <th></th>\n",
       "      <th></th>\n",
       "      <th></th>\n",
       "      <th></th>\n",
       "      <th></th>\n",
       "      <th></th>\n",
       "      <th></th>\n",
       "      <th></th>\n",
       "      <th></th>\n",
       "      <th></th>\n",
       "      <th></th>\n",
       "      <th></th>\n",
       "      <th></th>\n",
       "      <th></th>\n",
       "      <th></th>\n",
       "      <th></th>\n",
       "      <th></th>\n",
       "    </tr>\n",
       "  </thead>\n",
       "  <tbody>\n",
       "    <tr>\n",
       "      <th>10000003</th>\n",
       "      <td>WNB</td>\n",
       "      <td>TERM</td>\n",
       "      <td>M</td>\n",
       "      <td>N</td>\n",
       "      <td>8954</td>\n",
       "      <td>8 x Pay</td>\n",
       "      <td>1/1/2019</td>\n",
       "      <td>N</td>\n",
       "      <td>3/7/1972</td>\n",
       "      <td>47</td>\n",
       "      <td>M</td>\n",
       "      <td>Y</td>\n",
       "      <td>3</td>\n",
       "      <td>Mount Prospect Headquarters</td>\n",
       "      <td>IL</td>\n",
       "      <td>118964.76</td>\n",
       "      <td>1</td>\n",
       "    </tr>\n",
       "    <tr>\n",
       "      <th>202200008</th>\n",
       "      <td>OMC</td>\n",
       "      <td>ACTIVE</td>\n",
       "      <td>H</td>\n",
       "      <td>N</td>\n",
       "      <td>8954</td>\n",
       "      <td>3 x Pay</td>\n",
       "      <td>1/1/2019</td>\n",
       "      <td>N</td>\n",
       "      <td>1/29/1964</td>\n",
       "      <td>55</td>\n",
       "      <td>M</td>\n",
       "      <td>Y</td>\n",
       "      <td>1</td>\n",
       "      <td>Fort Smallwood Shops</td>\n",
       "      <td>MD</td>\n",
       "      <td>90999.96</td>\n",
       "      <td>1</td>\n",
       "    </tr>\n",
       "    <tr>\n",
       "      <th>121000041</th>\n",
       "      <td>NCE</td>\n",
       "      <td>ACTIVE</td>\n",
       "      <td>H</td>\n",
       "      <td>N</td>\n",
       "      <td>8954</td>\n",
       "      <td>8 x Pay</td>\n",
       "      <td>1/1/2019</td>\n",
       "      <td>N</td>\n",
       "      <td>5/21/1967</td>\n",
       "      <td>52</td>\n",
       "      <td>M</td>\n",
       "      <td>N</td>\n",
       "      <td>2</td>\n",
       "      <td>Peach Bottom APS</td>\n",
       "      <td>PA</td>\n",
       "      <td>106787.16</td>\n",
       "      <td>1</td>\n",
       "    </tr>\n",
       "    <tr>\n",
       "      <th>325000037</th>\n",
       "      <td>ENB</td>\n",
       "      <td>ACTIVE</td>\n",
       "      <td>M</td>\n",
       "      <td>N</td>\n",
       "      <td>8954</td>\n",
       "      <td>6 x Pay</td>\n",
       "      <td>1/1/2019</td>\n",
       "      <td>N</td>\n",
       "      <td>8/29/1977</td>\n",
       "      <td>41</td>\n",
       "      <td>M</td>\n",
       "      <td>Y</td>\n",
       "      <td>4</td>\n",
       "      <td>Peach Bottom APS</td>\n",
       "      <td>PA</td>\n",
       "      <td>178401.72</td>\n",
       "      <td>1</td>\n",
       "    </tr>\n",
       "    <tr>\n",
       "      <th>160000055</th>\n",
       "      <td>PCU</td>\n",
       "      <td>ACTIVE</td>\n",
       "      <td>N</td>\n",
       "      <td>Y</td>\n",
       "      <td>8954</td>\n",
       "      <td>8 x Pay</td>\n",
       "      <td>1/1/2019</td>\n",
       "      <td>Y</td>\n",
       "      <td>10/29/1952</td>\n",
       "      <td>66</td>\n",
       "      <td>M</td>\n",
       "      <td>Y</td>\n",
       "      <td>0</td>\n",
       "      <td>Oregon Maintenance Shop</td>\n",
       "      <td>PA</td>\n",
       "      <td>84510.36</td>\n",
       "      <td>1</td>\n",
       "    </tr>\n",
       "  </tbody>\n",
       "</table>\n",
       "</div>"
      ],
      "text/plain": [
       "             BENEFIT_PROGRAM EMPL_STATUS EMPL_CLASS UNION_CODE  \\\n",
       "PRSN_INTN_ID                                                     \n",
       "10000003                 WNB        TERM          M          N   \n",
       "202200008                OMC      ACTIVE          H          N   \n",
       "121000041                NCE      ACTIVE          H          N   \n",
       "325000037                ENB      ACTIVE          M          N   \n",
       "160000055                PCU      ACTIVE          N          Y   \n",
       "\n",
       "              SUPP_LIFE_PLAN SUPP_LIFE_OPTION SUPP_LIFE_BEGIN TOBACCO_USER  \\\n",
       "PRSN_INTN_ID                                                                 \n",
       "10000003                8954          8 x Pay        1/1/2019            N   \n",
       "202200008               8954          3 x Pay        1/1/2019            N   \n",
       "121000041               8954          8 x Pay        1/1/2019            N   \n",
       "325000037               8954          6 x Pay        1/1/2019            N   \n",
       "160000055               8954          8 x Pay        1/1/2019            Y   \n",
       "\n",
       "                 BRTH_DT  AGE GENDER SPOUSE  NUM_CHILD  \\\n",
       "PRSN_INTN_ID                                             \n",
       "10000003        3/7/1972   47      M      Y          3   \n",
       "202200008      1/29/1964   55      M      Y          1   \n",
       "121000041      5/21/1967   52      M      N          2   \n",
       "325000037      8/29/1977   41      M      Y          4   \n",
       "160000055     10/29/1952   66      M      Y          0   \n",
       "\n",
       "                                 LOCATION WRK_STATE  ANNUAL_PAY  GENDER_M  \n",
       "PRSN_INTN_ID                                                               \n",
       "10000003      Mount Prospect Headquarters        IL   118964.76         1  \n",
       "202200008            Fort Smallwood Shops        MD    90999.96         1  \n",
       "121000041                Peach Bottom APS        PA   106787.16         1  \n",
       "325000037                Peach Bottom APS        PA   178401.72         1  \n",
       "160000055         Oregon Maintenance Shop        PA    84510.36         1  "
      ]
     },
     "execution_count": 39,
     "metadata": {},
     "output_type": "execute_result"
    }
   ],
   "source": [
    "# Concatenate the original DataFrame and the dummy DataFrame (axis=0 means rows, axis=1 means columns).\n",
    "tobacco_dummies = pd.concat([tobacco, gender_dummies], axis=1)\n",
    "\n",
    "# Print 5 random rows.\n",
    "tobacco_dummies.sample(n=5, random_state=1)"
   ]
  },
  {
   "cell_type": "code",
   "execution_count": 40,
   "metadata": {},
   "outputs": [
    {
     "data": {
      "text/html": [
       "<div>\n",
       "<style scoped>\n",
       "    .dataframe tbody tr th:only-of-type {\n",
       "        vertical-align: middle;\n",
       "    }\n",
       "\n",
       "    .dataframe tbody tr th {\n",
       "        vertical-align: top;\n",
       "    }\n",
       "\n",
       "    .dataframe thead th {\n",
       "        text-align: right;\n",
       "    }\n",
       "</style>\n",
       "<table border=\"1\" class=\"dataframe\">\n",
       "  <thead>\n",
       "    <tr style=\"text-align: right;\">\n",
       "      <th></th>\n",
       "      <th>BENEFIT_PROGRAM</th>\n",
       "      <th>EMPL_STATUS</th>\n",
       "      <th>EMPL_CLASS</th>\n",
       "      <th>UNION_CODE</th>\n",
       "      <th>SUPP_LIFE_PLAN</th>\n",
       "      <th>SUPP_LIFE_OPTION</th>\n",
       "      <th>SUPP_LIFE_BEGIN</th>\n",
       "      <th>TOBACCO_USER</th>\n",
       "      <th>BRTH_DT</th>\n",
       "      <th>AGE</th>\n",
       "      <th>GENDER</th>\n",
       "      <th>SPOUSE</th>\n",
       "      <th>NUM_CHILD</th>\n",
       "      <th>LOCATION</th>\n",
       "      <th>WRK_STATE</th>\n",
       "      <th>ANNUAL_PAY</th>\n",
       "      <th>GENDER_M</th>\n",
       "    </tr>\n",
       "    <tr>\n",
       "      <th>PRSN_INTN_ID</th>\n",
       "      <th></th>\n",
       "      <th></th>\n",
       "      <th></th>\n",
       "      <th></th>\n",
       "      <th></th>\n",
       "      <th></th>\n",
       "      <th></th>\n",
       "      <th></th>\n",
       "      <th></th>\n",
       "      <th></th>\n",
       "      <th></th>\n",
       "      <th></th>\n",
       "      <th></th>\n",
       "      <th></th>\n",
       "      <th></th>\n",
       "      <th></th>\n",
       "      <th></th>\n",
       "    </tr>\n",
       "  </thead>\n",
       "  <tbody>\n",
       "    <tr>\n",
       "      <th>10050</th>\n",
       "      <td>WNB</td>\n",
       "      <td>ACTIVE</td>\n",
       "      <td>M</td>\n",
       "      <td>N</td>\n",
       "      <td>8954</td>\n",
       "      <td>Opt Out</td>\n",
       "      <td>1/1/2019</td>\n",
       "      <td>N</td>\n",
       "      <td>9/15/1989</td>\n",
       "      <td>29</td>\n",
       "      <td>M</td>\n",
       "      <td>N</td>\n",
       "      <td>0</td>\n",
       "      <td>Chase Building  Chicago</td>\n",
       "      <td>IL</td>\n",
       "      <td>96900.00</td>\n",
       "      <td>1</td>\n",
       "    </tr>\n",
       "    <tr>\n",
       "      <th>10063</th>\n",
       "      <td>WNB</td>\n",
       "      <td>ACTIVE</td>\n",
       "      <td>M</td>\n",
       "      <td>N</td>\n",
       "      <td>8954</td>\n",
       "      <td>5 x Pay</td>\n",
       "      <td>1/1/2019</td>\n",
       "      <td>Y</td>\n",
       "      <td>9/7/1976</td>\n",
       "      <td>42</td>\n",
       "      <td>F</td>\n",
       "      <td>Y</td>\n",
       "      <td>2</td>\n",
       "      <td>Point Street</td>\n",
       "      <td>MD</td>\n",
       "      <td>78000.00</td>\n",
       "      <td>0</td>\n",
       "    </tr>\n",
       "    <tr>\n",
       "      <th>100009</th>\n",
       "      <td>WNB</td>\n",
       "      <td>ACTIVE</td>\n",
       "      <td>M</td>\n",
       "      <td>N</td>\n",
       "      <td>8954</td>\n",
       "      <td>3 x Pay</td>\n",
       "      <td>1/1/2019</td>\n",
       "      <td>Y</td>\n",
       "      <td>12/7/1967</td>\n",
       "      <td>51</td>\n",
       "      <td>M</td>\n",
       "      <td>Y</td>\n",
       "      <td>0</td>\n",
       "      <td>Quad Cities NPS Sta 4</td>\n",
       "      <td>IL</td>\n",
       "      <td>141324.24</td>\n",
       "      <td>1</td>\n",
       "    </tr>\n",
       "    <tr>\n",
       "      <th>100061</th>\n",
       "      <td>WNB</td>\n",
       "      <td>ACTIVE</td>\n",
       "      <td>M</td>\n",
       "      <td>N</td>\n",
       "      <td>8954</td>\n",
       "      <td>Opt Out</td>\n",
       "      <td>1/1/2019</td>\n",
       "      <td>N</td>\n",
       "      <td>1/3/1954</td>\n",
       "      <td>65</td>\n",
       "      <td>M</td>\n",
       "      <td>Y</td>\n",
       "      <td>3</td>\n",
       "      <td>Quad Cities NPS Sta 4</td>\n",
       "      <td>IL</td>\n",
       "      <td>103866.84</td>\n",
       "      <td>1</td>\n",
       "    </tr>\n",
       "    <tr>\n",
       "      <th>361800052</th>\n",
       "      <td>OMC</td>\n",
       "      <td>ACTIVE</td>\n",
       "      <td>H</td>\n",
       "      <td>N</td>\n",
       "      <td>8954</td>\n",
       "      <td>8 x Pay</td>\n",
       "      <td>1/1/2019</td>\n",
       "      <td>Y</td>\n",
       "      <td>7/22/1999</td>\n",
       "      <td>19</td>\n",
       "      <td>M</td>\n",
       "      <td>N</td>\n",
       "      <td>0</td>\n",
       "      <td>Lord Baltimore Building</td>\n",
       "      <td>MD</td>\n",
       "      <td>47059.68</td>\n",
       "      <td>1</td>\n",
       "    </tr>\n",
       "  </tbody>\n",
       "</table>\n",
       "</div>"
      ],
      "text/plain": [
       "             BENEFIT_PROGRAM EMPL_STATUS EMPL_CLASS UNION_CODE  \\\n",
       "PRSN_INTN_ID                                                     \n",
       "10050                    WNB      ACTIVE          M          N   \n",
       "10063                    WNB      ACTIVE          M          N   \n",
       "100009                   WNB      ACTIVE          M          N   \n",
       "100061                   WNB      ACTIVE          M          N   \n",
       "361800052                OMC      ACTIVE          H          N   \n",
       "\n",
       "              SUPP_LIFE_PLAN SUPP_LIFE_OPTION SUPP_LIFE_BEGIN TOBACCO_USER  \\\n",
       "PRSN_INTN_ID                                                                 \n",
       "10050                   8954          Opt Out        1/1/2019            N   \n",
       "10063                   8954          5 x Pay        1/1/2019            Y   \n",
       "100009                  8954          3 x Pay        1/1/2019            Y   \n",
       "100061                  8954          Opt Out        1/1/2019            N   \n",
       "361800052               8954          8 x Pay        1/1/2019            Y   \n",
       "\n",
       "                BRTH_DT  AGE GENDER SPOUSE  NUM_CHILD  \\\n",
       "PRSN_INTN_ID                                            \n",
       "10050         9/15/1989   29      M      N          0   \n",
       "10063          9/7/1976   42      F      Y          2   \n",
       "100009        12/7/1967   51      M      Y          0   \n",
       "100061         1/3/1954   65      M      Y          3   \n",
       "361800052     7/22/1999   19      M      N          0   \n",
       "\n",
       "                             LOCATION WRK_STATE  ANNUAL_PAY  GENDER_M  \n",
       "PRSN_INTN_ID                                                           \n",
       "10050         Chase Building  Chicago        IL    96900.00         1  \n",
       "10063                    Point Street        MD    78000.00         0  \n",
       "100009          Quad Cities NPS Sta 4        IL   141324.24         1  \n",
       "100061          Quad Cities NPS Sta 4        IL   103866.84         1  \n",
       "361800052     Lord Baltimore Building        MD    47059.68         1  "
      ]
     },
     "execution_count": 40,
     "metadata": {},
     "output_type": "execute_result"
    }
   ],
   "source": [
    "tobacco_dummies.head()"
   ]
  },
  {
   "cell_type": "markdown",
   "metadata": {},
   "source": [
    "Set Union to be 1/0's so it can be used in model:\n",
    "\n",
    "Union = 1\n",
    "Non-Union = 0"
   ]
  },
  {
   "cell_type": "code",
   "execution_count": 41,
   "metadata": {},
   "outputs": [],
   "source": [
    "union_dummies = pd.get_dummies(tobacco.UNION_CODE, prefix='UNION_CODE')"
   ]
  },
  {
   "cell_type": "code",
   "execution_count": 42,
   "metadata": {},
   "outputs": [
    {
     "data": {
      "text/html": [
       "<div>\n",
       "<style scoped>\n",
       "    .dataframe tbody tr th:only-of-type {\n",
       "        vertical-align: middle;\n",
       "    }\n",
       "\n",
       "    .dataframe tbody tr th {\n",
       "        vertical-align: top;\n",
       "    }\n",
       "\n",
       "    .dataframe thead th {\n",
       "        text-align: right;\n",
       "    }\n",
       "</style>\n",
       "<table border=\"1\" class=\"dataframe\">\n",
       "  <thead>\n",
       "    <tr style=\"text-align: right;\">\n",
       "      <th></th>\n",
       "      <th>UNION_CODE_N</th>\n",
       "      <th>UNION_CODE_Y</th>\n",
       "    </tr>\n",
       "    <tr>\n",
       "      <th>PRSN_INTN_ID</th>\n",
       "      <th></th>\n",
       "      <th></th>\n",
       "    </tr>\n",
       "  </thead>\n",
       "  <tbody>\n",
       "    <tr>\n",
       "      <th>10050</th>\n",
       "      <td>1</td>\n",
       "      <td>0</td>\n",
       "    </tr>\n",
       "    <tr>\n",
       "      <th>10063</th>\n",
       "      <td>1</td>\n",
       "      <td>0</td>\n",
       "    </tr>\n",
       "    <tr>\n",
       "      <th>100009</th>\n",
       "      <td>1</td>\n",
       "      <td>0</td>\n",
       "    </tr>\n",
       "    <tr>\n",
       "      <th>100061</th>\n",
       "      <td>1</td>\n",
       "      <td>0</td>\n",
       "    </tr>\n",
       "    <tr>\n",
       "      <th>361800052</th>\n",
       "      <td>1</td>\n",
       "      <td>0</td>\n",
       "    </tr>\n",
       "  </tbody>\n",
       "</table>\n",
       "</div>"
      ],
      "text/plain": [
       "              UNION_CODE_N  UNION_CODE_Y\n",
       "PRSN_INTN_ID                            \n",
       "10050                    1             0\n",
       "10063                    1             0\n",
       "100009                   1             0\n",
       "100061                   1             0\n",
       "361800052                1             0"
      ]
     },
     "execution_count": 42,
     "metadata": {},
     "output_type": "execute_result"
    }
   ],
   "source": [
    "union_dummies.head()"
   ]
  },
  {
   "cell_type": "code",
   "execution_count": 43,
   "metadata": {},
   "outputs": [],
   "source": [
    "union_dummies.drop(union_dummies.columns[0], axis=1, inplace=True)"
   ]
  },
  {
   "cell_type": "code",
   "execution_count": 44,
   "metadata": {},
   "outputs": [
    {
     "data": {
      "text/html": [
       "<div>\n",
       "<style scoped>\n",
       "    .dataframe tbody tr th:only-of-type {\n",
       "        vertical-align: middle;\n",
       "    }\n",
       "\n",
       "    .dataframe tbody tr th {\n",
       "        vertical-align: top;\n",
       "    }\n",
       "\n",
       "    .dataframe thead th {\n",
       "        text-align: right;\n",
       "    }\n",
       "</style>\n",
       "<table border=\"1\" class=\"dataframe\">\n",
       "  <thead>\n",
       "    <tr style=\"text-align: right;\">\n",
       "      <th></th>\n",
       "      <th>UNION_CODE_Y</th>\n",
       "    </tr>\n",
       "    <tr>\n",
       "      <th>PRSN_INTN_ID</th>\n",
       "      <th></th>\n",
       "    </tr>\n",
       "  </thead>\n",
       "  <tbody>\n",
       "    <tr>\n",
       "      <th>10050</th>\n",
       "      <td>0</td>\n",
       "    </tr>\n",
       "    <tr>\n",
       "      <th>10063</th>\n",
       "      <td>0</td>\n",
       "    </tr>\n",
       "    <tr>\n",
       "      <th>100009</th>\n",
       "      <td>0</td>\n",
       "    </tr>\n",
       "    <tr>\n",
       "      <th>100061</th>\n",
       "      <td>0</td>\n",
       "    </tr>\n",
       "    <tr>\n",
       "      <th>361800052</th>\n",
       "      <td>0</td>\n",
       "    </tr>\n",
       "  </tbody>\n",
       "</table>\n",
       "</div>"
      ],
      "text/plain": [
       "              UNION_CODE_Y\n",
       "PRSN_INTN_ID              \n",
       "10050                    0\n",
       "10063                    0\n",
       "100009                   0\n",
       "100061                   0\n",
       "361800052                0"
      ]
     },
     "execution_count": 44,
     "metadata": {},
     "output_type": "execute_result"
    }
   ],
   "source": [
    "union_dummies.head()"
   ]
  },
  {
   "cell_type": "code",
   "execution_count": 45,
   "metadata": {},
   "outputs": [
    {
     "data": {
      "text/html": [
       "<div>\n",
       "<style scoped>\n",
       "    .dataframe tbody tr th:only-of-type {\n",
       "        vertical-align: middle;\n",
       "    }\n",
       "\n",
       "    .dataframe tbody tr th {\n",
       "        vertical-align: top;\n",
       "    }\n",
       "\n",
       "    .dataframe thead th {\n",
       "        text-align: right;\n",
       "    }\n",
       "</style>\n",
       "<table border=\"1\" class=\"dataframe\">\n",
       "  <thead>\n",
       "    <tr style=\"text-align: right;\">\n",
       "      <th></th>\n",
       "      <th>BENEFIT_PROGRAM</th>\n",
       "      <th>EMPL_STATUS</th>\n",
       "      <th>EMPL_CLASS</th>\n",
       "      <th>UNION_CODE</th>\n",
       "      <th>SUPP_LIFE_PLAN</th>\n",
       "      <th>SUPP_LIFE_OPTION</th>\n",
       "      <th>SUPP_LIFE_BEGIN</th>\n",
       "      <th>TOBACCO_USER</th>\n",
       "      <th>BRTH_DT</th>\n",
       "      <th>AGE</th>\n",
       "      <th>GENDER</th>\n",
       "      <th>SPOUSE</th>\n",
       "      <th>NUM_CHILD</th>\n",
       "      <th>LOCATION</th>\n",
       "      <th>WRK_STATE</th>\n",
       "      <th>ANNUAL_PAY</th>\n",
       "      <th>GENDER_M</th>\n",
       "      <th>UNION_CODE_Y</th>\n",
       "    </tr>\n",
       "    <tr>\n",
       "      <th>PRSN_INTN_ID</th>\n",
       "      <th></th>\n",
       "      <th></th>\n",
       "      <th></th>\n",
       "      <th></th>\n",
       "      <th></th>\n",
       "      <th></th>\n",
       "      <th></th>\n",
       "      <th></th>\n",
       "      <th></th>\n",
       "      <th></th>\n",
       "      <th></th>\n",
       "      <th></th>\n",
       "      <th></th>\n",
       "      <th></th>\n",
       "      <th></th>\n",
       "      <th></th>\n",
       "      <th></th>\n",
       "      <th></th>\n",
       "    </tr>\n",
       "  </thead>\n",
       "  <tbody>\n",
       "    <tr>\n",
       "      <th>10000003</th>\n",
       "      <td>WNB</td>\n",
       "      <td>TERM</td>\n",
       "      <td>M</td>\n",
       "      <td>N</td>\n",
       "      <td>8954</td>\n",
       "      <td>8 x Pay</td>\n",
       "      <td>1/1/2019</td>\n",
       "      <td>N</td>\n",
       "      <td>3/7/1972</td>\n",
       "      <td>47</td>\n",
       "      <td>M</td>\n",
       "      <td>Y</td>\n",
       "      <td>3</td>\n",
       "      <td>Mount Prospect Headquarters</td>\n",
       "      <td>IL</td>\n",
       "      <td>118964.76</td>\n",
       "      <td>1</td>\n",
       "      <td>0</td>\n",
       "    </tr>\n",
       "    <tr>\n",
       "      <th>202200008</th>\n",
       "      <td>OMC</td>\n",
       "      <td>ACTIVE</td>\n",
       "      <td>H</td>\n",
       "      <td>N</td>\n",
       "      <td>8954</td>\n",
       "      <td>3 x Pay</td>\n",
       "      <td>1/1/2019</td>\n",
       "      <td>N</td>\n",
       "      <td>1/29/1964</td>\n",
       "      <td>55</td>\n",
       "      <td>M</td>\n",
       "      <td>Y</td>\n",
       "      <td>1</td>\n",
       "      <td>Fort Smallwood Shops</td>\n",
       "      <td>MD</td>\n",
       "      <td>90999.96</td>\n",
       "      <td>1</td>\n",
       "      <td>0</td>\n",
       "    </tr>\n",
       "    <tr>\n",
       "      <th>121000041</th>\n",
       "      <td>NCE</td>\n",
       "      <td>ACTIVE</td>\n",
       "      <td>H</td>\n",
       "      <td>N</td>\n",
       "      <td>8954</td>\n",
       "      <td>8 x Pay</td>\n",
       "      <td>1/1/2019</td>\n",
       "      <td>N</td>\n",
       "      <td>5/21/1967</td>\n",
       "      <td>52</td>\n",
       "      <td>M</td>\n",
       "      <td>N</td>\n",
       "      <td>2</td>\n",
       "      <td>Peach Bottom APS</td>\n",
       "      <td>PA</td>\n",
       "      <td>106787.16</td>\n",
       "      <td>1</td>\n",
       "      <td>0</td>\n",
       "    </tr>\n",
       "    <tr>\n",
       "      <th>325000037</th>\n",
       "      <td>ENB</td>\n",
       "      <td>ACTIVE</td>\n",
       "      <td>M</td>\n",
       "      <td>N</td>\n",
       "      <td>8954</td>\n",
       "      <td>6 x Pay</td>\n",
       "      <td>1/1/2019</td>\n",
       "      <td>N</td>\n",
       "      <td>8/29/1977</td>\n",
       "      <td>41</td>\n",
       "      <td>M</td>\n",
       "      <td>Y</td>\n",
       "      <td>4</td>\n",
       "      <td>Peach Bottom APS</td>\n",
       "      <td>PA</td>\n",
       "      <td>178401.72</td>\n",
       "      <td>1</td>\n",
       "      <td>0</td>\n",
       "    </tr>\n",
       "    <tr>\n",
       "      <th>160000055</th>\n",
       "      <td>PCU</td>\n",
       "      <td>ACTIVE</td>\n",
       "      <td>N</td>\n",
       "      <td>Y</td>\n",
       "      <td>8954</td>\n",
       "      <td>8 x Pay</td>\n",
       "      <td>1/1/2019</td>\n",
       "      <td>Y</td>\n",
       "      <td>10/29/1952</td>\n",
       "      <td>66</td>\n",
       "      <td>M</td>\n",
       "      <td>Y</td>\n",
       "      <td>0</td>\n",
       "      <td>Oregon Maintenance Shop</td>\n",
       "      <td>PA</td>\n",
       "      <td>84510.36</td>\n",
       "      <td>1</td>\n",
       "      <td>1</td>\n",
       "    </tr>\n",
       "  </tbody>\n",
       "</table>\n",
       "</div>"
      ],
      "text/plain": [
       "             BENEFIT_PROGRAM EMPL_STATUS EMPL_CLASS UNION_CODE  \\\n",
       "PRSN_INTN_ID                                                     \n",
       "10000003                 WNB        TERM          M          N   \n",
       "202200008                OMC      ACTIVE          H          N   \n",
       "121000041                NCE      ACTIVE          H          N   \n",
       "325000037                ENB      ACTIVE          M          N   \n",
       "160000055                PCU      ACTIVE          N          Y   \n",
       "\n",
       "              SUPP_LIFE_PLAN SUPP_LIFE_OPTION SUPP_LIFE_BEGIN TOBACCO_USER  \\\n",
       "PRSN_INTN_ID                                                                 \n",
       "10000003                8954          8 x Pay        1/1/2019            N   \n",
       "202200008               8954          3 x Pay        1/1/2019            N   \n",
       "121000041               8954          8 x Pay        1/1/2019            N   \n",
       "325000037               8954          6 x Pay        1/1/2019            N   \n",
       "160000055               8954          8 x Pay        1/1/2019            Y   \n",
       "\n",
       "                 BRTH_DT  AGE GENDER SPOUSE  NUM_CHILD  \\\n",
       "PRSN_INTN_ID                                             \n",
       "10000003        3/7/1972   47      M      Y          3   \n",
       "202200008      1/29/1964   55      M      Y          1   \n",
       "121000041      5/21/1967   52      M      N          2   \n",
       "325000037      8/29/1977   41      M      Y          4   \n",
       "160000055     10/29/1952   66      M      Y          0   \n",
       "\n",
       "                                 LOCATION WRK_STATE  ANNUAL_PAY  GENDER_M  \\\n",
       "PRSN_INTN_ID                                                                \n",
       "10000003      Mount Prospect Headquarters        IL   118964.76         1   \n",
       "202200008            Fort Smallwood Shops        MD    90999.96         1   \n",
       "121000041                Peach Bottom APS        PA   106787.16         1   \n",
       "325000037                Peach Bottom APS        PA   178401.72         1   \n",
       "160000055         Oregon Maintenance Shop        PA    84510.36         1   \n",
       "\n",
       "              UNION_CODE_Y  \n",
       "PRSN_INTN_ID                \n",
       "10000003                 0  \n",
       "202200008                0  \n",
       "121000041                0  \n",
       "325000037                0  \n",
       "160000055                1  "
      ]
     },
     "execution_count": 45,
     "metadata": {},
     "output_type": "execute_result"
    }
   ],
   "source": [
    "# Concatenate the original DataFrame and the dummy DataFrame (axis=0 means rows, axis=1 means columns).\n",
    "tobacco_dummies = pd.concat([tobacco_dummies, union_dummies], axis=1)\n",
    "\n",
    "# Print 5 random rows.\n",
    "tobacco_dummies.sample(n=5, random_state=1)"
   ]
  },
  {
   "cell_type": "markdown",
   "metadata": {},
   "source": [
    "Set Smoker to be 1/0's so it can be used in model:\n",
    "\n",
    "Smoker = 1\n",
    "Non-Smoker = 0"
   ]
  },
  {
   "cell_type": "code",
   "execution_count": 46,
   "metadata": {},
   "outputs": [],
   "source": [
    "smoker_dummies = pd.get_dummies(tobacco.TOBACCO_USER, prefix='SMOKER')"
   ]
  },
  {
   "cell_type": "code",
   "execution_count": 47,
   "metadata": {},
   "outputs": [
    {
     "data": {
      "text/html": [
       "<div>\n",
       "<style scoped>\n",
       "    .dataframe tbody tr th:only-of-type {\n",
       "        vertical-align: middle;\n",
       "    }\n",
       "\n",
       "    .dataframe tbody tr th {\n",
       "        vertical-align: top;\n",
       "    }\n",
       "\n",
       "    .dataframe thead th {\n",
       "        text-align: right;\n",
       "    }\n",
       "</style>\n",
       "<table border=\"1\" class=\"dataframe\">\n",
       "  <thead>\n",
       "    <tr style=\"text-align: right;\">\n",
       "      <th></th>\n",
       "      <th>SMOKER_N</th>\n",
       "      <th>SMOKER_Y</th>\n",
       "    </tr>\n",
       "    <tr>\n",
       "      <th>PRSN_INTN_ID</th>\n",
       "      <th></th>\n",
       "      <th></th>\n",
       "    </tr>\n",
       "  </thead>\n",
       "  <tbody>\n",
       "    <tr>\n",
       "      <th>10050</th>\n",
       "      <td>1</td>\n",
       "      <td>0</td>\n",
       "    </tr>\n",
       "    <tr>\n",
       "      <th>10063</th>\n",
       "      <td>0</td>\n",
       "      <td>1</td>\n",
       "    </tr>\n",
       "    <tr>\n",
       "      <th>100009</th>\n",
       "      <td>0</td>\n",
       "      <td>1</td>\n",
       "    </tr>\n",
       "    <tr>\n",
       "      <th>100061</th>\n",
       "      <td>1</td>\n",
       "      <td>0</td>\n",
       "    </tr>\n",
       "    <tr>\n",
       "      <th>361800052</th>\n",
       "      <td>0</td>\n",
       "      <td>1</td>\n",
       "    </tr>\n",
       "  </tbody>\n",
       "</table>\n",
       "</div>"
      ],
      "text/plain": [
       "              SMOKER_N  SMOKER_Y\n",
       "PRSN_INTN_ID                    \n",
       "10050                1         0\n",
       "10063                0         1\n",
       "100009               0         1\n",
       "100061               1         0\n",
       "361800052            0         1"
      ]
     },
     "execution_count": 47,
     "metadata": {},
     "output_type": "execute_result"
    }
   ],
   "source": [
    "smoker_dummies.head()"
   ]
  },
  {
   "cell_type": "code",
   "execution_count": 48,
   "metadata": {},
   "outputs": [],
   "source": [
    "#drop the column that represents that they are NOT in a smoker\n",
    "#later want to check if SMOKER_Y = 1, that is has an impact\n",
    "smoker_dummies.drop(smoker_dummies.columns[0], axis=1, inplace=True)"
   ]
  },
  {
   "cell_type": "code",
   "execution_count": 49,
   "metadata": {},
   "outputs": [
    {
     "data": {
      "text/html": [
       "<div>\n",
       "<style scoped>\n",
       "    .dataframe tbody tr th:only-of-type {\n",
       "        vertical-align: middle;\n",
       "    }\n",
       "\n",
       "    .dataframe tbody tr th {\n",
       "        vertical-align: top;\n",
       "    }\n",
       "\n",
       "    .dataframe thead th {\n",
       "        text-align: right;\n",
       "    }\n",
       "</style>\n",
       "<table border=\"1\" class=\"dataframe\">\n",
       "  <thead>\n",
       "    <tr style=\"text-align: right;\">\n",
       "      <th></th>\n",
       "      <th>SMOKER_Y</th>\n",
       "    </tr>\n",
       "    <tr>\n",
       "      <th>PRSN_INTN_ID</th>\n",
       "      <th></th>\n",
       "    </tr>\n",
       "  </thead>\n",
       "  <tbody>\n",
       "    <tr>\n",
       "      <th>10050</th>\n",
       "      <td>0</td>\n",
       "    </tr>\n",
       "    <tr>\n",
       "      <th>10063</th>\n",
       "      <td>1</td>\n",
       "    </tr>\n",
       "    <tr>\n",
       "      <th>100009</th>\n",
       "      <td>1</td>\n",
       "    </tr>\n",
       "    <tr>\n",
       "      <th>100061</th>\n",
       "      <td>0</td>\n",
       "    </tr>\n",
       "    <tr>\n",
       "      <th>361800052</th>\n",
       "      <td>1</td>\n",
       "    </tr>\n",
       "  </tbody>\n",
       "</table>\n",
       "</div>"
      ],
      "text/plain": [
       "              SMOKER_Y\n",
       "PRSN_INTN_ID          \n",
       "10050                0\n",
       "10063                1\n",
       "100009               1\n",
       "100061               0\n",
       "361800052            1"
      ]
     },
     "execution_count": 49,
     "metadata": {},
     "output_type": "execute_result"
    }
   ],
   "source": [
    "smoker_dummies.head()"
   ]
  },
  {
   "cell_type": "code",
   "execution_count": 50,
   "metadata": {},
   "outputs": [
    {
     "data": {
      "text/html": [
       "<div>\n",
       "<style scoped>\n",
       "    .dataframe tbody tr th:only-of-type {\n",
       "        vertical-align: middle;\n",
       "    }\n",
       "\n",
       "    .dataframe tbody tr th {\n",
       "        vertical-align: top;\n",
       "    }\n",
       "\n",
       "    .dataframe thead th {\n",
       "        text-align: right;\n",
       "    }\n",
       "</style>\n",
       "<table border=\"1\" class=\"dataframe\">\n",
       "  <thead>\n",
       "    <tr style=\"text-align: right;\">\n",
       "      <th></th>\n",
       "      <th>BENEFIT_PROGRAM</th>\n",
       "      <th>EMPL_STATUS</th>\n",
       "      <th>EMPL_CLASS</th>\n",
       "      <th>UNION_CODE</th>\n",
       "      <th>SUPP_LIFE_PLAN</th>\n",
       "      <th>SUPP_LIFE_OPTION</th>\n",
       "      <th>SUPP_LIFE_BEGIN</th>\n",
       "      <th>TOBACCO_USER</th>\n",
       "      <th>BRTH_DT</th>\n",
       "      <th>AGE</th>\n",
       "      <th>GENDER</th>\n",
       "      <th>SPOUSE</th>\n",
       "      <th>NUM_CHILD</th>\n",
       "      <th>LOCATION</th>\n",
       "      <th>WRK_STATE</th>\n",
       "      <th>ANNUAL_PAY</th>\n",
       "      <th>GENDER_M</th>\n",
       "      <th>UNION_CODE_Y</th>\n",
       "      <th>SMOKER_Y</th>\n",
       "    </tr>\n",
       "    <tr>\n",
       "      <th>PRSN_INTN_ID</th>\n",
       "      <th></th>\n",
       "      <th></th>\n",
       "      <th></th>\n",
       "      <th></th>\n",
       "      <th></th>\n",
       "      <th></th>\n",
       "      <th></th>\n",
       "      <th></th>\n",
       "      <th></th>\n",
       "      <th></th>\n",
       "      <th></th>\n",
       "      <th></th>\n",
       "      <th></th>\n",
       "      <th></th>\n",
       "      <th></th>\n",
       "      <th></th>\n",
       "      <th></th>\n",
       "      <th></th>\n",
       "      <th></th>\n",
       "    </tr>\n",
       "  </thead>\n",
       "  <tbody>\n",
       "    <tr>\n",
       "      <th>10000003</th>\n",
       "      <td>WNB</td>\n",
       "      <td>TERM</td>\n",
       "      <td>M</td>\n",
       "      <td>N</td>\n",
       "      <td>8954</td>\n",
       "      <td>8 x Pay</td>\n",
       "      <td>1/1/2019</td>\n",
       "      <td>N</td>\n",
       "      <td>3/7/1972</td>\n",
       "      <td>47</td>\n",
       "      <td>M</td>\n",
       "      <td>Y</td>\n",
       "      <td>3</td>\n",
       "      <td>Mount Prospect Headquarters</td>\n",
       "      <td>IL</td>\n",
       "      <td>118964.76</td>\n",
       "      <td>1</td>\n",
       "      <td>0</td>\n",
       "      <td>0</td>\n",
       "    </tr>\n",
       "    <tr>\n",
       "      <th>202200008</th>\n",
       "      <td>OMC</td>\n",
       "      <td>ACTIVE</td>\n",
       "      <td>H</td>\n",
       "      <td>N</td>\n",
       "      <td>8954</td>\n",
       "      <td>3 x Pay</td>\n",
       "      <td>1/1/2019</td>\n",
       "      <td>N</td>\n",
       "      <td>1/29/1964</td>\n",
       "      <td>55</td>\n",
       "      <td>M</td>\n",
       "      <td>Y</td>\n",
       "      <td>1</td>\n",
       "      <td>Fort Smallwood Shops</td>\n",
       "      <td>MD</td>\n",
       "      <td>90999.96</td>\n",
       "      <td>1</td>\n",
       "      <td>0</td>\n",
       "      <td>0</td>\n",
       "    </tr>\n",
       "    <tr>\n",
       "      <th>121000041</th>\n",
       "      <td>NCE</td>\n",
       "      <td>ACTIVE</td>\n",
       "      <td>H</td>\n",
       "      <td>N</td>\n",
       "      <td>8954</td>\n",
       "      <td>8 x Pay</td>\n",
       "      <td>1/1/2019</td>\n",
       "      <td>N</td>\n",
       "      <td>5/21/1967</td>\n",
       "      <td>52</td>\n",
       "      <td>M</td>\n",
       "      <td>N</td>\n",
       "      <td>2</td>\n",
       "      <td>Peach Bottom APS</td>\n",
       "      <td>PA</td>\n",
       "      <td>106787.16</td>\n",
       "      <td>1</td>\n",
       "      <td>0</td>\n",
       "      <td>0</td>\n",
       "    </tr>\n",
       "    <tr>\n",
       "      <th>325000037</th>\n",
       "      <td>ENB</td>\n",
       "      <td>ACTIVE</td>\n",
       "      <td>M</td>\n",
       "      <td>N</td>\n",
       "      <td>8954</td>\n",
       "      <td>6 x Pay</td>\n",
       "      <td>1/1/2019</td>\n",
       "      <td>N</td>\n",
       "      <td>8/29/1977</td>\n",
       "      <td>41</td>\n",
       "      <td>M</td>\n",
       "      <td>Y</td>\n",
       "      <td>4</td>\n",
       "      <td>Peach Bottom APS</td>\n",
       "      <td>PA</td>\n",
       "      <td>178401.72</td>\n",
       "      <td>1</td>\n",
       "      <td>0</td>\n",
       "      <td>0</td>\n",
       "    </tr>\n",
       "    <tr>\n",
       "      <th>160000055</th>\n",
       "      <td>PCU</td>\n",
       "      <td>ACTIVE</td>\n",
       "      <td>N</td>\n",
       "      <td>Y</td>\n",
       "      <td>8954</td>\n",
       "      <td>8 x Pay</td>\n",
       "      <td>1/1/2019</td>\n",
       "      <td>Y</td>\n",
       "      <td>10/29/1952</td>\n",
       "      <td>66</td>\n",
       "      <td>M</td>\n",
       "      <td>Y</td>\n",
       "      <td>0</td>\n",
       "      <td>Oregon Maintenance Shop</td>\n",
       "      <td>PA</td>\n",
       "      <td>84510.36</td>\n",
       "      <td>1</td>\n",
       "      <td>1</td>\n",
       "      <td>1</td>\n",
       "    </tr>\n",
       "  </tbody>\n",
       "</table>\n",
       "</div>"
      ],
      "text/plain": [
       "             BENEFIT_PROGRAM EMPL_STATUS EMPL_CLASS UNION_CODE  \\\n",
       "PRSN_INTN_ID                                                     \n",
       "10000003                 WNB        TERM          M          N   \n",
       "202200008                OMC      ACTIVE          H          N   \n",
       "121000041                NCE      ACTIVE          H          N   \n",
       "325000037                ENB      ACTIVE          M          N   \n",
       "160000055                PCU      ACTIVE          N          Y   \n",
       "\n",
       "              SUPP_LIFE_PLAN SUPP_LIFE_OPTION SUPP_LIFE_BEGIN TOBACCO_USER  \\\n",
       "PRSN_INTN_ID                                                                 \n",
       "10000003                8954          8 x Pay        1/1/2019            N   \n",
       "202200008               8954          3 x Pay        1/1/2019            N   \n",
       "121000041               8954          8 x Pay        1/1/2019            N   \n",
       "325000037               8954          6 x Pay        1/1/2019            N   \n",
       "160000055               8954          8 x Pay        1/1/2019            Y   \n",
       "\n",
       "                 BRTH_DT  AGE GENDER SPOUSE  NUM_CHILD  \\\n",
       "PRSN_INTN_ID                                             \n",
       "10000003        3/7/1972   47      M      Y          3   \n",
       "202200008      1/29/1964   55      M      Y          1   \n",
       "121000041      5/21/1967   52      M      N          2   \n",
       "325000037      8/29/1977   41      M      Y          4   \n",
       "160000055     10/29/1952   66      M      Y          0   \n",
       "\n",
       "                                 LOCATION WRK_STATE  ANNUAL_PAY  GENDER_M  \\\n",
       "PRSN_INTN_ID                                                                \n",
       "10000003      Mount Prospect Headquarters        IL   118964.76         1   \n",
       "202200008            Fort Smallwood Shops        MD    90999.96         1   \n",
       "121000041                Peach Bottom APS        PA   106787.16         1   \n",
       "325000037                Peach Bottom APS        PA   178401.72         1   \n",
       "160000055         Oregon Maintenance Shop        PA    84510.36         1   \n",
       "\n",
       "              UNION_CODE_Y  SMOKER_Y  \n",
       "PRSN_INTN_ID                          \n",
       "10000003                 0         0  \n",
       "202200008                0         0  \n",
       "121000041                0         0  \n",
       "325000037                0         0  \n",
       "160000055                1         1  "
      ]
     },
     "execution_count": 50,
     "metadata": {},
     "output_type": "execute_result"
    }
   ],
   "source": [
    "# Concatenate the original DataFrame and the dummy DataFrame (axis=0 means rows, axis=1 means columns).\n",
    "tobacco_dummies = pd.concat([tobacco_dummies, smoker_dummies], axis=1)\n",
    "\n",
    "# Print 5 random rows.\n",
    "tobacco_dummies.sample(n=5, random_state=1)"
   ]
  },
  {
   "cell_type": "code",
   "execution_count": null,
   "metadata": {},
   "outputs": [],
   "source": []
  },
  {
   "cell_type": "code",
   "execution_count": null,
   "metadata": {},
   "outputs": [],
   "source": []
  },
  {
   "cell_type": "code",
   "execution_count": 51,
   "metadata": {},
   "outputs": [
    {
     "data": {
      "text/html": [
       "<div>\n",
       "<style scoped>\n",
       "    .dataframe tbody tr th:only-of-type {\n",
       "        vertical-align: middle;\n",
       "    }\n",
       "\n",
       "    .dataframe tbody tr th {\n",
       "        vertical-align: top;\n",
       "    }\n",
       "\n",
       "    .dataframe thead th {\n",
       "        text-align: right;\n",
       "    }\n",
       "</style>\n",
       "<table border=\"1\" class=\"dataframe\">\n",
       "  <thead>\n",
       "    <tr style=\"text-align: right;\">\n",
       "      <th></th>\n",
       "      <th>SUPP_LIFE_PLAN</th>\n",
       "      <th>AGE</th>\n",
       "      <th>NUM_CHILD</th>\n",
       "      <th>ANNUAL_PAY</th>\n",
       "      <th>GENDER_M</th>\n",
       "      <th>UNION_CODE_Y</th>\n",
       "      <th>SMOKER_Y</th>\n",
       "    </tr>\n",
       "  </thead>\n",
       "  <tbody>\n",
       "    <tr>\n",
       "      <th>SUPP_LIFE_PLAN</th>\n",
       "      <td>NaN</td>\n",
       "      <td>NaN</td>\n",
       "      <td>NaN</td>\n",
       "      <td>NaN</td>\n",
       "      <td>NaN</td>\n",
       "      <td>NaN</td>\n",
       "      <td>NaN</td>\n",
       "    </tr>\n",
       "    <tr>\n",
       "      <th>AGE</th>\n",
       "      <td>NaN</td>\n",
       "      <td>1.000000</td>\n",
       "      <td>0.256051</td>\n",
       "      <td>0.298026</td>\n",
       "      <td>0.037301</td>\n",
       "      <td>-0.084016</td>\n",
       "      <td>0.039843</td>\n",
       "    </tr>\n",
       "    <tr>\n",
       "      <th>NUM_CHILD</th>\n",
       "      <td>NaN</td>\n",
       "      <td>0.256051</td>\n",
       "      <td>1.000000</td>\n",
       "      <td>0.211378</td>\n",
       "      <td>0.110315</td>\n",
       "      <td>-0.028843</td>\n",
       "      <td>0.109018</td>\n",
       "    </tr>\n",
       "    <tr>\n",
       "      <th>ANNUAL_PAY</th>\n",
       "      <td>NaN</td>\n",
       "      <td>0.298026</td>\n",
       "      <td>0.211378</td>\n",
       "      <td>1.000000</td>\n",
       "      <td>0.136420</td>\n",
       "      <td>-0.283563</td>\n",
       "      <td>-0.058345</td>\n",
       "    </tr>\n",
       "    <tr>\n",
       "      <th>GENDER_M</th>\n",
       "      <td>NaN</td>\n",
       "      <td>0.037301</td>\n",
       "      <td>0.110315</td>\n",
       "      <td>0.136420</td>\n",
       "      <td>1.000000</td>\n",
       "      <td>0.067165</td>\n",
       "      <td>0.169386</td>\n",
       "    </tr>\n",
       "    <tr>\n",
       "      <th>UNION_CODE_Y</th>\n",
       "      <td>NaN</td>\n",
       "      <td>-0.084016</td>\n",
       "      <td>-0.028843</td>\n",
       "      <td>-0.283563</td>\n",
       "      <td>0.067165</td>\n",
       "      <td>1.000000</td>\n",
       "      <td>0.319991</td>\n",
       "    </tr>\n",
       "    <tr>\n",
       "      <th>SMOKER_Y</th>\n",
       "      <td>NaN</td>\n",
       "      <td>0.039843</td>\n",
       "      <td>0.109018</td>\n",
       "      <td>-0.058345</td>\n",
       "      <td>0.169386</td>\n",
       "      <td>0.319991</td>\n",
       "      <td>1.000000</td>\n",
       "    </tr>\n",
       "  </tbody>\n",
       "</table>\n",
       "</div>"
      ],
      "text/plain": [
       "                SUPP_LIFE_PLAN       AGE  NUM_CHILD  ANNUAL_PAY  GENDER_M  \\\n",
       "SUPP_LIFE_PLAN             NaN       NaN        NaN         NaN       NaN   \n",
       "AGE                        NaN  1.000000   0.256051    0.298026  0.037301   \n",
       "NUM_CHILD                  NaN  0.256051   1.000000    0.211378  0.110315   \n",
       "ANNUAL_PAY                 NaN  0.298026   0.211378    1.000000  0.136420   \n",
       "GENDER_M                   NaN  0.037301   0.110315    0.136420  1.000000   \n",
       "UNION_CODE_Y               NaN -0.084016  -0.028843   -0.283563  0.067165   \n",
       "SMOKER_Y                   NaN  0.039843   0.109018   -0.058345  0.169386   \n",
       "\n",
       "                UNION_CODE_Y  SMOKER_Y  \n",
       "SUPP_LIFE_PLAN           NaN       NaN  \n",
       "AGE                -0.084016  0.039843  \n",
       "NUM_CHILD          -0.028843  0.109018  \n",
       "ANNUAL_PAY         -0.283563 -0.058345  \n",
       "GENDER_M            0.067165  0.169386  \n",
       "UNION_CODE_Y        1.000000  0.319991  \n",
       "SMOKER_Y            0.319991  1.000000  "
      ]
     },
     "execution_count": 51,
     "metadata": {},
     "output_type": "execute_result"
    }
   ],
   "source": [
    "# Correlation matrix (ranges from 1 to -1)\n",
    "tobacco_dummies.corr()"
   ]
  },
  {
   "cell_type": "code",
   "execution_count": 52,
   "metadata": {},
   "outputs": [
    {
     "data": {
      "image/png": "[encoded data removed]",
      "text/plain": [
       "<Figure size 432x288 with 2 Axes>"
      ]
     },
     "metadata": {
      "needs_background": "light"
     },
     "output_type": "display_data"
    }
   ],
   "source": [
    "# Visualize correlation matrix in Seaborn using a heat map.\n",
    "sns.heatmap(tobacco_dummies.corr());"
   ]
  },
  {
   "cell_type": "markdown",
   "metadata": {},
   "source": [
    "Looking at the correlation matrix above, we can see that UNION_CODE_Y, GENDER_M have some correlation.\n",
    "Since we have Age at time of hire, and Age also has some correlation to SMOKER_Y, \n",
    "lets see if that has value to being a predictor.\n",
    "\n",
    "Number of Children also has positive correlation, but we will not know if an employee\n",
    "has children at the time of being hired."
   ]
  },
  {
   "cell_type": "markdown",
   "metadata": {},
   "source": [
    "### KNN Model"
   ]
  },
  {
   "cell_type": "code",
   "execution_count": 53,
   "metadata": {},
   "outputs": [],
   "source": [
    "# Create X and y.\n",
    "feature_cols = ['UNION_CODE_Y','GENDER_M','AGE']\n",
    "X = tobacco_dummies[feature_cols]\n",
    "y = tobacco_dummies['SMOKER_Y']"
   ]
  },
  {
   "cell_type": "code",
   "execution_count": 54,
   "metadata": {},
   "outputs": [
    {
     "data": {
      "text/html": [
       "<div>\n",
       "<style scoped>\n",
       "    .dataframe tbody tr th:only-of-type {\n",
       "        vertical-align: middle;\n",
       "    }\n",
       "\n",
       "    .dataframe tbody tr th {\n",
       "        vertical-align: top;\n",
       "    }\n",
       "\n",
       "    .dataframe thead th {\n",
       "        text-align: right;\n",
       "    }\n",
       "</style>\n",
       "<table border=\"1\" class=\"dataframe\">\n",
       "  <thead>\n",
       "    <tr style=\"text-align: right;\">\n",
       "      <th></th>\n",
       "      <th>UNION_CODE_Y</th>\n",
       "      <th>GENDER_M</th>\n",
       "      <th>AGE</th>\n",
       "    </tr>\n",
       "    <tr>\n",
       "      <th>PRSN_INTN_ID</th>\n",
       "      <th></th>\n",
       "      <th></th>\n",
       "      <th></th>\n",
       "    </tr>\n",
       "  </thead>\n",
       "  <tbody>\n",
       "    <tr>\n",
       "      <th>10050</th>\n",
       "      <td>0</td>\n",
       "      <td>1</td>\n",
       "      <td>29</td>\n",
       "    </tr>\n",
       "    <tr>\n",
       "      <th>10063</th>\n",
       "      <td>0</td>\n",
       "      <td>0</td>\n",
       "      <td>42</td>\n",
       "    </tr>\n",
       "    <tr>\n",
       "      <th>100009</th>\n",
       "      <td>0</td>\n",
       "      <td>1</td>\n",
       "      <td>51</td>\n",
       "    </tr>\n",
       "    <tr>\n",
       "      <th>100061</th>\n",
       "      <td>0</td>\n",
       "      <td>1</td>\n",
       "      <td>65</td>\n",
       "    </tr>\n",
       "    <tr>\n",
       "      <th>361800052</th>\n",
       "      <td>0</td>\n",
       "      <td>1</td>\n",
       "      <td>19</td>\n",
       "    </tr>\n",
       "  </tbody>\n",
       "</table>\n",
       "</div>"
      ],
      "text/plain": [
       "              UNION_CODE_Y  GENDER_M  AGE\n",
       "PRSN_INTN_ID                             \n",
       "10050                    0         1   29\n",
       "10063                    0         0   42\n",
       "100009                   0         1   51\n",
       "100061                   0         1   65\n",
       "361800052                0         1   19"
      ]
     },
     "execution_count": 54,
     "metadata": {},
     "output_type": "execute_result"
    }
   ],
   "source": [
    "X.head()"
   ]
  },
  {
   "cell_type": "code",
   "execution_count": 55,
   "metadata": {},
   "outputs": [
    {
     "data": {
      "text/plain": [
       "PRSN_INTN_ID\n",
       "10050        0\n",
       "10063        1\n",
       "100009       1\n",
       "100061       0\n",
       "361800052    1\n",
       "Name: SMOKER_Y, dtype: uint8"
      ]
     },
     "execution_count": 55,
     "metadata": {},
     "output_type": "execute_result"
    }
   ],
   "source": [
    "y.head()"
   ]
  },
  {
   "cell_type": "code",
   "execution_count": 56,
   "metadata": {},
   "outputs": [
    {
     "data": {
      "text/html": [
       "<div>\n",
       "<style scoped>\n",
       "    .dataframe tbody tr th:only-of-type {\n",
       "        vertical-align: middle;\n",
       "    }\n",
       "\n",
       "    .dataframe tbody tr th {\n",
       "        vertical-align: top;\n",
       "    }\n",
       "\n",
       "    .dataframe thead th {\n",
       "        text-align: right;\n",
       "    }\n",
       "</style>\n",
       "<table border=\"1\" class=\"dataframe\">\n",
       "  <thead>\n",
       "    <tr style=\"text-align: right;\">\n",
       "      <th></th>\n",
       "      <th>UNION_CODE_Y</th>\n",
       "      <th>GENDER_M</th>\n",
       "      <th>AGE</th>\n",
       "      <th>SMOKER_Y</th>\n",
       "    </tr>\n",
       "    <tr>\n",
       "      <th>PRSN_INTN_ID</th>\n",
       "      <th></th>\n",
       "      <th></th>\n",
       "      <th></th>\n",
       "      <th></th>\n",
       "    </tr>\n",
       "  </thead>\n",
       "  <tbody>\n",
       "    <tr>\n",
       "      <th>10050</th>\n",
       "      <td>0</td>\n",
       "      <td>1</td>\n",
       "      <td>29</td>\n",
       "      <td>0</td>\n",
       "    </tr>\n",
       "    <tr>\n",
       "      <th>10063</th>\n",
       "      <td>0</td>\n",
       "      <td>0</td>\n",
       "      <td>42</td>\n",
       "      <td>1</td>\n",
       "    </tr>\n",
       "    <tr>\n",
       "      <th>100009</th>\n",
       "      <td>0</td>\n",
       "      <td>1</td>\n",
       "      <td>51</td>\n",
       "      <td>1</td>\n",
       "    </tr>\n",
       "    <tr>\n",
       "      <th>100061</th>\n",
       "      <td>0</td>\n",
       "      <td>1</td>\n",
       "      <td>65</td>\n",
       "      <td>0</td>\n",
       "    </tr>\n",
       "    <tr>\n",
       "      <th>361800052</th>\n",
       "      <td>0</td>\n",
       "      <td>1</td>\n",
       "      <td>19</td>\n",
       "      <td>1</td>\n",
       "    </tr>\n",
       "  </tbody>\n",
       "</table>\n",
       "</div>"
      ],
      "text/plain": [
       "              UNION_CODE_Y  GENDER_M  AGE  SMOKER_Y\n",
       "PRSN_INTN_ID                                       \n",
       "10050                    0         1   29         0\n",
       "10063                    0         0   42         1\n",
       "100009                   0         1   51         1\n",
       "100061                   0         1   65         0\n",
       "361800052                0         1   19         1"
      ]
     },
     "execution_count": 56,
     "metadata": {},
     "output_type": "execute_result"
    }
   ],
   "source": [
    "tobacco_2 = pd.concat([X, y], axis=1)\n",
    "\n",
    "tobacco_2.head()"
   ]
  },
  {
   "cell_type": "markdown",
   "metadata": {},
   "source": [
    "Train test split:"
   ]
  },
  {
   "cell_type": "markdown",
   "metadata": {},
   "source": [
    "Use KNN:"
   ]
  },
  {
   "cell_type": "code",
   "execution_count": 57,
   "metadata": {},
   "outputs": [],
   "source": [
    "from sklearn.neighbors import KNeighborsClassifier\n",
    "from sklearn.model_selection import train_test_split\n",
    "from sklearn import metrics"
   ]
  },
  {
   "cell_type": "code",
   "execution_count": 58,
   "metadata": {},
   "outputs": [],
   "source": [
    "X_train, X_test, y_train, y_test = train_test_split(X, y, random_state=99)"
   ]
  },
  {
   "cell_type": "code",
   "execution_count": 59,
   "metadata": {},
   "outputs": [
    {
     "data": {
      "text/plain": [
       "KNeighborsClassifier(algorithm='auto', leaf_size=30, metric='minkowski',\n",
       "           metric_params=None, n_jobs=1, n_neighbors=1, p=2,\n",
       "           weights='uniform')"
      ]
     },
     "execution_count": 59,
     "metadata": {},
     "output_type": "execute_result"
    }
   ],
   "source": [
    "knn = KNeighborsClassifier(n_neighbors=1)\n",
    "knn.fit(X_train, y_train)"
   ]
  },
  {
   "cell_type": "code",
   "execution_count": 60,
   "metadata": {},
   "outputs": [
    {
     "name": "stdout",
     "output_type": "stream",
     "text": [
      "0.6094420600858369\n"
     ]
    }
   ],
   "source": [
    "y_pred_class = knn.predict(X_test)\n",
    "print((metrics.accuracy_score(y_test, y_pred_class)))"
   ]
  },
  {
   "cell_type": "code",
   "execution_count": 61,
   "metadata": {},
   "outputs": [],
   "source": [
    "#grid search cross validation\n",
    "from sklearn.model_selection import GridSearchCV\n",
    "from sklearn.neighbors import KNeighborsClassifier\n",
    "\n",
    "knn = KNeighborsClassifier()\n",
    "parameters = {\n",
    "    'n_neighbors': np.arange(1,74)\n",
    "}\n",
    "gs = GridSearchCV(KNeighborsClassifier(), parameters, cv=3, verbose=2)\n"
   ]
  },
  {
   "cell_type": "code",
   "execution_count": 62,
   "metadata": {},
   "outputs": [
    {
     "name": "stdout",
     "output_type": "stream",
     "text": [
      "Fitting 3 folds for each of 73 candidates, totalling 219 fits\n",
      "[CV] n_neighbors=1 ...................................................\n",
      "[CV] .................................... n_neighbors=1, total=   0.0s\n",
      "[CV] n_neighbors=1 ...................................................\n",
      "[CV] .................................... n_neighbors=1, total=   0.0s\n",
      "[CV] n_neighbors=1 ...................................................\n"
     ]
    },
    {
     "name": "stderr",
     "output_type": "stream",
     "text": [
      "[Parallel(n_jobs=1)]: Done   1 out of   1 | elapsed:    0.1s remaining:    0.0s\n"
     ]
    },
    {
     "name": "stdout",
     "output_type": "stream",
     "text": [
      "[CV] .................................... n_neighbors=1, total=   0.0s\n",
      "[CV] n_neighbors=2 ...................................................\n",
      "[CV] .................................... n_neighbors=2, total=   0.0s\n",
      "[CV] n_neighbors=2 ...................................................\n",
      "[CV] .................................... n_neighbors=2, total=   0.0s\n",
      "[CV] n_neighbors=2 ...................................................\n",
      "[CV] .................................... n_neighbors=2, total=   0.0s\n",
      "[CV] n_neighbors=3 ...................................................\n",
      "[CV] .................................... n_neighbors=3, total=   0.0s\n",
      "[CV] n_neighbors=3 ...................................................\n",
      "[CV] .................................... n_neighbors=3, total=   0.0s\n",
      "[CV] n_neighbors=3 ...................................................\n",
      "[CV] .................................... n_neighbors=3, total=   0.0s\n",
      "[CV] n_neighbors=4 ...................................................\n",
      "[CV] .................................... n_neighbors=4, total=   0.0s\n",
      "[CV] n_neighbors=4 ...................................................\n",
      "[CV] .................................... n_neighbors=4, total=   0.0s\n",
      "[CV] n_neighbors=4 ...................................................\n",
      "[CV] .................................... n_neighbors=4, total=   0.0s\n",
      "[CV] n_neighbors=5 ...................................................\n",
      "[CV] .................................... n_neighbors=5, total=   0.0s\n",
      "[CV] n_neighbors=5 ...................................................\n",
      "[CV] .................................... n_neighbors=5, total=   0.0s\n",
      "[CV] n_neighbors=5 ...................................................\n",
      "[CV] .................................... n_neighbors=5, total=   0.0s\n",
      "[CV] n_neighbors=6 ...................................................\n",
      "[CV] .................................... n_neighbors=6, total=   0.0s\n",
      "[CV] n_neighbors=6 ...................................................\n",
      "[CV] .................................... n_neighbors=6, total=   0.0s\n",
      "[CV] n_neighbors=6 ...................................................\n",
      "[CV] .................................... n_neighbors=6, total=   0.0s\n",
      "[CV] n_neighbors=7 ...................................................\n",
      "[CV] .................................... n_neighbors=7, total=   0.0s\n",
      "[CV] n_neighbors=7 ...................................................\n",
      "[CV] .................................... n_neighbors=7, total=   0.0s\n",
      "[CV] n_neighbors=7 ...................................................\n",
      "[CV] .................................... n_neighbors=7, total=   0.0s\n",
      "[CV] n_neighbors=8 ...................................................\n",
      "[CV] .................................... n_neighbors=8, total=   0.0s\n",
      "[CV] n_neighbors=8 ...................................................\n",
      "[CV] .................................... n_neighbors=8, total=   0.0s\n",
      "[CV] n_neighbors=8 ...................................................\n",
      "[CV] .................................... n_neighbors=8, total=   0.0s\n",
      "[CV] n_neighbors=9 ...................................................\n",
      "[CV] .................................... n_neighbors=9, total=   0.0s\n",
      "[CV] n_neighbors=9 ...................................................\n",
      "[CV] .................................... n_neighbors=9, total=   0.0s\n",
      "[CV] n_neighbors=9 ...................................................\n",
      "[CV] .................................... n_neighbors=9, total=   0.0s\n",
      "[CV] n_neighbors=10 ..................................................\n",
      "[CV] ................................... n_neighbors=10, total=   0.0s\n",
      "[CV] n_neighbors=10 ..................................................\n",
      "[CV] ................................... n_neighbors=10, total=   0.0s\n",
      "[CV] n_neighbors=10 ..................................................\n",
      "[CV] ................................... n_neighbors=10, total=   0.0s\n",
      "[CV] n_neighbors=11 ..................................................\n",
      "[CV] ................................... n_neighbors=11, total=   0.0s\n",
      "[CV] n_neighbors=11 ..................................................\n",
      "[CV] ................................... n_neighbors=11, total=   0.0s\n",
      "[CV] n_neighbors=11 ..................................................\n",
      "[CV] ................................... n_neighbors=11, total=   0.0s\n",
      "[CV] n_neighbors=12 ..................................................\n",
      "[CV] ................................... n_neighbors=12, total=   0.0s\n",
      "[CV] n_neighbors=12 ..................................................\n",
      "[CV] ................................... n_neighbors=12, total=   0.0s\n",
      "[CV] n_neighbors=12 ..................................................\n",
      "[CV] ................................... n_neighbors=12, total=   0.0s\n",
      "[CV] n_neighbors=13 ..................................................\n",
      "[CV] ................................... n_neighbors=13, total=   0.0s\n",
      "[CV] n_neighbors=13 ..................................................\n",
      "[CV] ................................... n_neighbors=13, total=   0.0s\n",
      "[CV] n_neighbors=13 ..................................................\n",
      "[CV] ................................... n_neighbors=13, total=   0.0s\n",
      "[CV] n_neighbors=14 ..................................................\n",
      "[CV] ................................... n_neighbors=14, total=   0.0s\n",
      "[CV] n_neighbors=14 ..................................................\n",
      "[CV] ................................... n_neighbors=14, total=   0.0s\n",
      "[CV] n_neighbors=14 ..................................................\n",
      "[CV] ................................... n_neighbors=14, total=   0.0s\n",
      "[CV] n_neighbors=15 ..................................................\n",
      "[CV] ................................... n_neighbors=15, total=   0.0s\n",
      "[CV] n_neighbors=15 ..................................................\n",
      "[CV] ................................... n_neighbors=15, total=   0.0s\n",
      "[CV] n_neighbors=15 ..................................................\n",
      "[CV] ................................... n_neighbors=15, total=   0.0s\n",
      "[CV] n_neighbors=16 ..................................................\n",
      "[CV] ................................... n_neighbors=16, total=   0.0s\n",
      "[CV] n_neighbors=16 ..................................................\n",
      "[CV] ................................... n_neighbors=16, total=   0.0s\n",
      "[CV] n_neighbors=16 ..................................................\n",
      "[CV] ................................... n_neighbors=16, total=   0.0s\n",
      "[CV] n_neighbors=17 ..................................................\n",
      "[CV] ................................... n_neighbors=17, total=   0.0s\n",
      "[CV] n_neighbors=17 ..................................................\n",
      "[CV] ................................... n_neighbors=17, total=   0.0s\n",
      "[CV] n_neighbors=17 ..................................................\n",
      "[CV] ................................... n_neighbors=17, total=   0.0s\n",
      "[CV] n_neighbors=18 ..................................................\n",
      "[CV] ................................... n_neighbors=18, total=   0.0s\n",
      "[CV] n_neighbors=18 ..................................................\n",
      "[CV] ................................... n_neighbors=18, total=   0.0s\n",
      "[CV] n_neighbors=18 ..................................................\n",
      "[CV] ................................... n_neighbors=18, total=   0.0s\n",
      "[CV] n_neighbors=19 ..................................................\n",
      "[CV] ................................... n_neighbors=19, total=   0.0s\n",
      "[CV] n_neighbors=19 ..................................................\n",
      "[CV] ................................... n_neighbors=19, total=   0.0s\n",
      "[CV] n_neighbors=19 ..................................................\n",
      "[CV] ................................... n_neighbors=19, total=   0.0s\n",
      "[CV] n_neighbors=20 ..................................................\n",
      "[CV] ................................... n_neighbors=20, total=   0.0s\n",
      "[CV] n_neighbors=20 ..................................................\n",
      "[CV] ................................... n_neighbors=20, total=   0.0s\n",
      "[CV] n_neighbors=20 ..................................................\n",
      "[CV] ................................... n_neighbors=20, total=   0.0s\n",
      "[CV] n_neighbors=21 ..................................................\n",
      "[CV] ................................... n_neighbors=21, total=   0.0s\n",
      "[CV] n_neighbors=21 ..................................................\n",
      "[CV] ................................... n_neighbors=21, total=   0.0s\n",
      "[CV] n_neighbors=21 ..................................................\n"
     ]
    },
    {
     "name": "stdout",
     "output_type": "stream",
     "text": [
      "[CV] ................................... n_neighbors=21, total=   0.0s\n",
      "[CV] n_neighbors=22 ..................................................\n",
      "[CV] ................................... n_neighbors=22, total=   0.0s\n",
      "[CV] n_neighbors=22 ..................................................\n",
      "[CV] ................................... n_neighbors=22, total=   0.0s\n",
      "[CV] n_neighbors=22 ..................................................\n",
      "[CV] ................................... n_neighbors=22, total=   0.0s\n",
      "[CV] n_neighbors=23 ..................................................\n",
      "[CV] ................................... n_neighbors=23, total=   0.0s\n",
      "[CV] n_neighbors=23 ..................................................\n",
      "[CV] ................................... n_neighbors=23, total=   0.0s\n",
      "[CV] n_neighbors=23 ..................................................\n",
      "[CV] ................................... n_neighbors=23, total=   0.0s\n",
      "[CV] n_neighbors=24 ..................................................\n",
      "[CV] ................................... n_neighbors=24, total=   0.0s\n",
      "[CV] n_neighbors=24 ..................................................\n",
      "[CV] ................................... n_neighbors=24, total=   0.0s\n",
      "[CV] n_neighbors=24 ..................................................\n",
      "[CV] ................................... n_neighbors=24, total=   0.0s\n",
      "[CV] n_neighbors=25 ..................................................\n",
      "[CV] ................................... n_neighbors=25, total=   0.0s\n",
      "[CV] n_neighbors=25 ..................................................\n",
      "[CV] ................................... n_neighbors=25, total=   0.0s\n",
      "[CV] n_neighbors=25 ..................................................\n",
      "[CV] ................................... n_neighbors=25, total=   0.0s\n",
      "[CV] n_neighbors=26 ..................................................\n",
      "[CV] ................................... n_neighbors=26, total=   0.0s\n",
      "[CV] n_neighbors=26 ..................................................\n",
      "[CV] ................................... n_neighbors=26, total=   0.0s\n",
      "[CV] n_neighbors=26 ..................................................\n",
      "[CV] ................................... n_neighbors=26, total=   0.0s\n",
      "[CV] n_neighbors=27 ..................................................\n",
      "[CV] ................................... n_neighbors=27, total=   0.0s\n",
      "[CV] n_neighbors=27 ..................................................\n",
      "[CV] ................................... n_neighbors=27, total=   0.0s\n",
      "[CV] n_neighbors=27 ..................................................\n",
      "[CV] ................................... n_neighbors=27, total=   0.0s\n",
      "[CV] n_neighbors=28 ..................................................\n",
      "[CV] ................................... n_neighbors=28, total=   0.0s\n",
      "[CV] n_neighbors=28 ..................................................\n",
      "[CV] ................................... n_neighbors=28, total=   0.0s\n",
      "[CV] n_neighbors=28 ..................................................\n",
      "[CV] ................................... n_neighbors=28, total=   0.0s\n",
      "[CV] n_neighbors=29 ..................................................\n",
      "[CV] ................................... n_neighbors=29, total=   0.0s\n",
      "[CV] n_neighbors=29 ..................................................\n",
      "[CV] ................................... n_neighbors=29, total=   0.0s\n",
      "[CV] n_neighbors=29 ..................................................\n",
      "[CV] ................................... n_neighbors=29, total=   0.0s\n",
      "[CV] n_neighbors=30 ..................................................\n",
      "[CV] ................................... n_neighbors=30, total=   0.0s\n",
      "[CV] n_neighbors=30 ..................................................\n",
      "[CV] ................................... n_neighbors=30, total=   0.0s\n",
      "[CV] n_neighbors=30 ..................................................\n",
      "[CV] ................................... n_neighbors=30, total=   0.0s\n",
      "[CV] n_neighbors=31 ..................................................\n",
      "[CV] ................................... n_neighbors=31, total=   0.0s\n",
      "[CV] n_neighbors=31 ..................................................\n",
      "[CV] ................................... n_neighbors=31, total=   0.0s\n",
      "[CV] n_neighbors=31 ..................................................\n",
      "[CV] ................................... n_neighbors=31, total=   0.0s\n",
      "[CV] n_neighbors=32 ..................................................\n",
      "[CV] ................................... n_neighbors=32, total=   0.0s\n",
      "[CV] n_neighbors=32 ..................................................\n",
      "[CV] ................................... n_neighbors=32, total=   0.0s\n",
      "[CV] n_neighbors=32 ..................................................\n",
      "[CV] ................................... n_neighbors=32, total=   0.0s\n",
      "[CV] n_neighbors=33 ..................................................\n",
      "[CV] ................................... n_neighbors=33, total=   0.0s\n",
      "[CV] n_neighbors=33 ..................................................\n",
      "[CV] ................................... n_neighbors=33, total=   0.0s\n",
      "[CV] n_neighbors=33 ..................................................\n",
      "[CV] ................................... n_neighbors=33, total=   0.0s\n",
      "[CV] n_neighbors=34 ..................................................\n",
      "[CV] ................................... n_neighbors=34, total=   0.0s\n",
      "[CV] n_neighbors=34 ..................................................\n",
      "[CV] ................................... n_neighbors=34, total=   0.0s\n",
      "[CV] n_neighbors=34 ..................................................\n",
      "[CV] ................................... n_neighbors=34, total=   0.0s\n",
      "[CV] n_neighbors=35 ..................................................\n",
      "[CV] ................................... n_neighbors=35, total=   0.0s\n",
      "[CV] n_neighbors=35 ..................................................\n",
      "[CV] ................................... n_neighbors=35, total=   0.0s\n",
      "[CV] n_neighbors=35 ..................................................\n",
      "[CV] ................................... n_neighbors=35, total=   0.0s\n",
      "[CV] n_neighbors=36 ..................................................\n",
      "[CV] ................................... n_neighbors=36, total=   0.0s\n",
      "[CV] n_neighbors=36 ..................................................\n",
      "[CV] ................................... n_neighbors=36, total=   0.0s\n",
      "[CV] n_neighbors=36 ..................................................\n",
      "[CV] ................................... n_neighbors=36, total=   0.0s\n",
      "[CV] n_neighbors=37 ..................................................\n",
      "[CV] ................................... n_neighbors=37, total=   0.0s\n",
      "[CV] n_neighbors=37 ..................................................\n",
      "[CV] ................................... n_neighbors=37, total=   0.0s\n",
      "[CV] n_neighbors=37 ..................................................\n",
      "[CV] ................................... n_neighbors=37, total=   0.0s\n",
      "[CV] n_neighbors=38 ..................................................\n",
      "[CV] ................................... n_neighbors=38, total=   0.0s\n",
      "[CV] n_neighbors=38 ..................................................\n",
      "[CV] ................................... n_neighbors=38, total=   0.0s\n",
      "[CV] n_neighbors=38 ..................................................\n",
      "[CV] ................................... n_neighbors=38, total=   0.0s\n",
      "[CV] n_neighbors=39 ..................................................\n",
      "[CV] ................................... n_neighbors=39, total=   0.0s\n",
      "[CV] n_neighbors=39 ..................................................\n",
      "[CV] ................................... n_neighbors=39, total=   0.0s\n",
      "[CV] n_neighbors=39 ..................................................\n",
      "[CV] ................................... n_neighbors=39, total=   0.0s\n",
      "[CV] n_neighbors=40 ..................................................\n",
      "[CV] ................................... n_neighbors=40, total=   0.0s\n",
      "[CV] n_neighbors=40 ..................................................\n",
      "[CV] ................................... n_neighbors=40, total=   0.0s\n",
      "[CV] n_neighbors=40 ..................................................\n",
      "[CV] ................................... n_neighbors=40, total=   0.1s\n",
      "[CV] n_neighbors=41 ..................................................\n",
      "[CV] ................................... n_neighbors=41, total=   0.1s\n",
      "[CV] n_neighbors=41 ..................................................\n"
     ]
    },
    {
     "name": "stdout",
     "output_type": "stream",
     "text": [
      "[CV] ................................... n_neighbors=41, total=   0.0s\n",
      "[CV] n_neighbors=41 ..................................................\n",
      "[CV] ................................... n_neighbors=41, total=   0.1s\n",
      "[CV] n_neighbors=42 ..................................................\n",
      "[CV] ................................... n_neighbors=42, total=   0.1s\n",
      "[CV] n_neighbors=42 ..................................................\n",
      "[CV] ................................... n_neighbors=42, total=   0.1s\n",
      "[CV] n_neighbors=42 ..................................................\n",
      "[CV] ................................... n_neighbors=42, total=   0.1s\n",
      "[CV] n_neighbors=43 ..................................................\n",
      "[CV] ................................... n_neighbors=43, total=   0.1s\n",
      "[CV] n_neighbors=43 ..................................................\n",
      "[CV] ................................... n_neighbors=43, total=   0.1s\n",
      "[CV] n_neighbors=43 ..................................................\n",
      "[CV] ................................... n_neighbors=43, total=   0.1s\n",
      "[CV] n_neighbors=44 ..................................................\n",
      "[CV] ................................... n_neighbors=44, total=   0.1s\n",
      "[CV] n_neighbors=44 ..................................................\n",
      "[CV] ................................... n_neighbors=44, total=   0.1s\n",
      "[CV] n_neighbors=44 ..................................................\n",
      "[CV] ................................... n_neighbors=44, total=   0.1s\n",
      "[CV] n_neighbors=45 ..................................................\n",
      "[CV] ................................... n_neighbors=45, total=   0.1s\n",
      "[CV] n_neighbors=45 ..................................................\n",
      "[CV] ................................... n_neighbors=45, total=   0.1s\n",
      "[CV] n_neighbors=45 ..................................................\n",
      "[CV] ................................... n_neighbors=45, total=   0.1s\n",
      "[CV] n_neighbors=46 ..................................................\n",
      "[CV] ................................... n_neighbors=46, total=   0.1s\n",
      "[CV] n_neighbors=46 ..................................................\n",
      "[CV] ................................... n_neighbors=46, total=   0.1s\n",
      "[CV] n_neighbors=46 ..................................................\n",
      "[CV] ................................... n_neighbors=46, total=   0.1s\n",
      "[CV] n_neighbors=47 ..................................................\n",
      "[CV] ................................... n_neighbors=47, total=   0.1s\n",
      "[CV] n_neighbors=47 ..................................................\n",
      "[CV] ................................... n_neighbors=47, total=   0.1s\n",
      "[CV] n_neighbors=47 ..................................................\n",
      "[CV] ................................... n_neighbors=47, total=   0.1s\n",
      "[CV] n_neighbors=48 ..................................................\n",
      "[CV] ................................... n_neighbors=48, total=   0.1s\n",
      "[CV] n_neighbors=48 ..................................................\n",
      "[CV] ................................... n_neighbors=48, total=   0.1s\n",
      "[CV] n_neighbors=48 ..................................................\n",
      "[CV] ................................... n_neighbors=48, total=   0.1s\n",
      "[CV] n_neighbors=49 ..................................................\n",
      "[CV] ................................... n_neighbors=49, total=   0.1s\n",
      "[CV] n_neighbors=49 ..................................................\n",
      "[CV] ................................... n_neighbors=49, total=   0.1s\n",
      "[CV] n_neighbors=49 ..................................................\n",
      "[CV] ................................... n_neighbors=49, total=   0.1s\n",
      "[CV] n_neighbors=50 ..................................................\n",
      "[CV] ................................... n_neighbors=50, total=   0.1s\n",
      "[CV] n_neighbors=50 ..................................................\n",
      "[CV] ................................... n_neighbors=50, total=   0.1s\n",
      "[CV] n_neighbors=50 ..................................................\n",
      "[CV] ................................... n_neighbors=50, total=   0.1s\n",
      "[CV] n_neighbors=51 ..................................................\n",
      "[CV] ................................... n_neighbors=51, total=   0.1s\n",
      "[CV] n_neighbors=51 ..................................................\n",
      "[CV] ................................... n_neighbors=51, total=   0.1s\n",
      "[CV] n_neighbors=51 ..................................................\n",
      "[CV] ................................... n_neighbors=51, total=   0.1s\n",
      "[CV] n_neighbors=52 ..................................................\n",
      "[CV] ................................... n_neighbors=52, total=   0.1s\n",
      "[CV] n_neighbors=52 ..................................................\n",
      "[CV] ................................... n_neighbors=52, total=   0.1s\n",
      "[CV] n_neighbors=52 ..................................................\n",
      "[CV] ................................... n_neighbors=52, total=   0.1s\n",
      "[CV] n_neighbors=53 ..................................................\n",
      "[CV] ................................... n_neighbors=53, total=   0.1s\n",
      "[CV] n_neighbors=53 ..................................................\n",
      "[CV] ................................... n_neighbors=53, total=   0.1s\n",
      "[CV] n_neighbors=53 ..................................................\n",
      "[CV] ................................... n_neighbors=53, total=   0.1s\n",
      "[CV] n_neighbors=54 ..................................................\n",
      "[CV] ................................... n_neighbors=54, total=   0.1s\n",
      "[CV] n_neighbors=54 ..................................................\n",
      "[CV] ................................... n_neighbors=54, total=   0.1s\n",
      "[CV] n_neighbors=54 ..................................................\n",
      "[CV] ................................... n_neighbors=54, total=   0.1s\n",
      "[CV] n_neighbors=55 ..................................................\n",
      "[CV] ................................... n_neighbors=55, total=   0.1s\n",
      "[CV] n_neighbors=55 ..................................................\n",
      "[CV] ................................... n_neighbors=55, total=   0.1s\n",
      "[CV] n_neighbors=55 ..................................................\n",
      "[CV] ................................... n_neighbors=55, total=   0.1s\n",
      "[CV] n_neighbors=56 ..................................................\n",
      "[CV] ................................... n_neighbors=56, total=   0.1s\n",
      "[CV] n_neighbors=56 ..................................................\n",
      "[CV] ................................... n_neighbors=56, total=   0.1s\n",
      "[CV] n_neighbors=56 ..................................................\n",
      "[CV] ................................... n_neighbors=56, total=   0.1s\n",
      "[CV] n_neighbors=57 ..................................................\n",
      "[CV] ................................... n_neighbors=57, total=   0.1s\n",
      "[CV] n_neighbors=57 ..................................................\n",
      "[CV] ................................... n_neighbors=57, total=   0.1s\n",
      "[CV] n_neighbors=57 ..................................................\n",
      "[CV] ................................... n_neighbors=57, total=   0.1s\n",
      "[CV] n_neighbors=58 ..................................................\n",
      "[CV] ................................... n_neighbors=58, total=   0.1s\n",
      "[CV] n_neighbors=58 ..................................................\n",
      "[CV] ................................... n_neighbors=58, total=   0.1s\n",
      "[CV] n_neighbors=58 ..................................................\n",
      "[CV] ................................... n_neighbors=58, total=   0.1s\n",
      "[CV] n_neighbors=59 ..................................................\n",
      "[CV] ................................... n_neighbors=59, total=   0.1s\n",
      "[CV] n_neighbors=59 ..................................................\n",
      "[CV] ................................... n_neighbors=59, total=   0.1s\n",
      "[CV] n_neighbors=59 ..................................................\n",
      "[CV] ................................... n_neighbors=59, total=   0.1s\n",
      "[CV] n_neighbors=60 ..................................................\n",
      "[CV] ................................... n_neighbors=60, total=   0.1s\n",
      "[CV] n_neighbors=60 ..................................................\n",
      "[CV] ................................... n_neighbors=60, total=   0.1s\n",
      "[CV] n_neighbors=60 ..................................................\n"
     ]
    },
    {
     "name": "stdout",
     "output_type": "stream",
     "text": [
      "[CV] ................................... n_neighbors=60, total=   0.1s\n",
      "[CV] n_neighbors=61 ..................................................\n",
      "[CV] ................................... n_neighbors=61, total=   0.1s\n",
      "[CV] n_neighbors=61 ..................................................\n",
      "[CV] ................................... n_neighbors=61, total=   0.1s\n",
      "[CV] n_neighbors=61 ..................................................\n",
      "[CV] ................................... n_neighbors=61, total=   0.1s\n",
      "[CV] n_neighbors=62 ..................................................\n",
      "[CV] ................................... n_neighbors=62, total=   0.1s\n",
      "[CV] n_neighbors=62 ..................................................\n",
      "[CV] ................................... n_neighbors=62, total=   0.1s\n",
      "[CV] n_neighbors=62 ..................................................\n",
      "[CV] ................................... n_neighbors=62, total=   0.1s\n",
      "[CV] n_neighbors=63 ..................................................\n",
      "[CV] ................................... n_neighbors=63, total=   0.1s\n",
      "[CV] n_neighbors=63 ..................................................\n",
      "[CV] ................................... n_neighbors=63, total=   0.1s\n",
      "[CV] n_neighbors=63 ..................................................\n",
      "[CV] ................................... n_neighbors=63, total=   0.1s\n",
      "[CV] n_neighbors=64 ..................................................\n",
      "[CV] ................................... n_neighbors=64, total=   0.1s\n",
      "[CV] n_neighbors=64 ..................................................\n",
      "[CV] ................................... n_neighbors=64, total=   0.1s\n",
      "[CV] n_neighbors=64 ..................................................\n",
      "[CV] ................................... n_neighbors=64, total=   0.1s\n",
      "[CV] n_neighbors=65 ..................................................\n",
      "[CV] ................................... n_neighbors=65, total=   0.1s\n",
      "[CV] n_neighbors=65 ..................................................\n",
      "[CV] ................................... n_neighbors=65, total=   0.1s\n",
      "[CV] n_neighbors=65 ..................................................\n",
      "[CV] ................................... n_neighbors=65, total=   0.1s\n",
      "[CV] n_neighbors=66 ..................................................\n",
      "[CV] ................................... n_neighbors=66, total=   0.1s\n",
      "[CV] n_neighbors=66 ..................................................\n",
      "[CV] ................................... n_neighbors=66, total=   0.1s\n",
      "[CV] n_neighbors=66 ..................................................\n",
      "[CV] ................................... n_neighbors=66, total=   0.1s\n",
      "[CV] n_neighbors=67 ..................................................\n",
      "[CV] ................................... n_neighbors=67, total=   0.1s\n",
      "[CV] n_neighbors=67 ..................................................\n",
      "[CV] ................................... n_neighbors=67, total=   0.1s\n",
      "[CV] n_neighbors=67 ..................................................\n",
      "[CV] ................................... n_neighbors=67, total=   0.1s\n",
      "[CV] n_neighbors=68 ..................................................\n",
      "[CV] ................................... n_neighbors=68, total=   0.1s\n",
      "[CV] n_neighbors=68 ..................................................\n",
      "[CV] ................................... n_neighbors=68, total=   0.1s\n",
      "[CV] n_neighbors=68 ..................................................\n",
      "[CV] ................................... n_neighbors=68, total=   0.1s\n",
      "[CV] n_neighbors=69 ..................................................\n",
      "[CV] ................................... n_neighbors=69, total=   0.1s\n",
      "[CV] n_neighbors=69 ..................................................\n",
      "[CV] ................................... n_neighbors=69, total=   0.1s\n",
      "[CV] n_neighbors=69 ..................................................\n",
      "[CV] ................................... n_neighbors=69, total=   0.1s\n",
      "[CV] n_neighbors=70 ..................................................\n",
      "[CV] ................................... n_neighbors=70, total=   0.1s\n",
      "[CV] n_neighbors=70 ..................................................\n",
      "[CV] ................................... n_neighbors=70, total=   0.1s\n",
      "[CV] n_neighbors=70 ..................................................\n",
      "[CV] ................................... n_neighbors=70, total=   0.1s\n",
      "[CV] n_neighbors=71 ..................................................\n",
      "[CV] ................................... n_neighbors=71, total=   0.1s\n",
      "[CV] n_neighbors=71 ..................................................\n",
      "[CV] ................................... n_neighbors=71, total=   0.1s\n",
      "[CV] n_neighbors=71 ..................................................\n",
      "[CV] ................................... n_neighbors=71, total=   0.1s\n",
      "[CV] n_neighbors=72 ..................................................\n",
      "[CV] ................................... n_neighbors=72, total=   0.1s\n",
      "[CV] n_neighbors=72 ..................................................\n",
      "[CV] ................................... n_neighbors=72, total=   0.1s\n",
      "[CV] n_neighbors=72 ..................................................\n",
      "[CV] ................................... n_neighbors=72, total=   0.1s\n",
      "[CV] n_neighbors=73 ..................................................\n",
      "[CV] ................................... n_neighbors=73, total=   0.1s\n",
      "[CV] n_neighbors=73 ..................................................\n",
      "[CV] ................................... n_neighbors=73, total=   0.1s\n",
      "[CV] n_neighbors=73 ..................................................\n",
      "[CV] ................................... n_neighbors=73, total=   0.1s\n"
     ]
    },
    {
     "name": "stderr",
     "output_type": "stream",
     "text": [
      "[Parallel(n_jobs=1)]: Done 219 out of 219 | elapsed:   29.7s finished\n"
     ]
    },
    {
     "data": {
      "text/plain": [
       "GridSearchCV(cv=3, error_score='raise',\n",
       "       estimator=KNeighborsClassifier(algorithm='auto', leaf_size=30, metric='minkowski',\n",
       "           metric_params=None, n_jobs=1, n_neighbors=5, p=2,\n",
       "           weights='uniform'),\n",
       "       fit_params=None, iid=True, n_jobs=1,\n",
       "       param_grid={'n_neighbors': array([ 1,  2, ..., 72, 73])},\n",
       "       pre_dispatch='2*n_jobs', refit=True, return_train_score='warn',\n",
       "       scoring=None, verbose=2)"
      ]
     },
     "execution_count": 62,
     "metadata": {},
     "output_type": "execute_result"
    }
   ],
   "source": [
    "gs.fit(X_train, y_train)"
   ]
  },
  {
   "cell_type": "code",
   "execution_count": 63,
   "metadata": {},
   "outputs": [
    {
     "data": {
      "text/plain": [
       "KNeighborsClassifier(algorithm='auto', leaf_size=30, metric='minkowski',\n",
       "           metric_params=None, n_jobs=1, n_neighbors=64, p=2,\n",
       "           weights='uniform')"
      ]
     },
     "execution_count": 63,
     "metadata": {},
     "output_type": "execute_result"
    }
   ],
   "source": [
    "gs.best_estimator_"
   ]
  },
  {
   "cell_type": "code",
   "execution_count": 64,
   "metadata": {},
   "outputs": [
    {
     "name": "stdout",
     "output_type": "stream",
     "text": [
      "0.7149896677793673\n"
     ]
    }
   ],
   "source": [
    "knn = KNeighborsClassifier(n_neighbors=64)\n",
    "knn.fit(X_train, y_train)\n",
    "y_pred_class = knn.predict(X_test)\n",
    "print((metrics.accuracy_score(y_test, y_pred_class)))"
   ]
  },
  {
   "cell_type": "markdown",
   "metadata": {},
   "source": [
    "### Make a prediction for an out-of-sample observation.\n",
    "### Union - Y, Gender - M, Age - 31"
   ]
  },
  {
   "cell_type": "code",
   "execution_count": 65,
   "metadata": {},
   "outputs": [
    {
     "data": {
      "text/plain": [
       "array([1], dtype=uint8)"
      ]
     },
     "execution_count": 65,
     "metadata": {},
     "output_type": "execute_result"
    }
   ],
   "source": [
    "# Instantiate the model with the best-known parameters.\n",
    "knn = KNeighborsClassifier(n_neighbors=64)\n",
    "\n",
    "# Re-train the model with X and y\n",
    "knn.fit(X, y)\n",
    "\n",
    "\n",
    "# input union, gender, and age:\n",
    "knn.predict(np.array([1, 1, 31]).reshape(1, -1))"
   ]
  },
  {
   "cell_type": "markdown",
   "metadata": {},
   "source": [
    "### Union - Y, Gender - F, Age - 31"
   ]
  },
  {
   "cell_type": "code",
   "execution_count": 66,
   "metadata": {},
   "outputs": [
    {
     "data": {
      "text/plain": [
       "array([0], dtype=uint8)"
      ]
     },
     "execution_count": 66,
     "metadata": {},
     "output_type": "execute_result"
    }
   ],
   "source": [
    "# Instantiate the model with the best-known parameters.\n",
    "knn = KNeighborsClassifier(n_neighbors=64)\n",
    "\n",
    "# Re-train the model with X and y (not X_train and y_train). Why?\n",
    "knn.fit(X, y)\n",
    "\n",
    "knn.predict(np.array([1, 0, 31]).reshape(1, -1))"
   ]
  },
  {
   "cell_type": "markdown",
   "metadata": {},
   "source": [
    "### Union - N, Gender - M, Age 31"
   ]
  },
  {
   "cell_type": "code",
   "execution_count": 67,
   "metadata": {},
   "outputs": [
    {
     "data": {
      "text/plain": [
       "array([0], dtype=uint8)"
      ]
     },
     "execution_count": 67,
     "metadata": {},
     "output_type": "execute_result"
    }
   ],
   "source": [
    "# Instantiate the model with the best-known parameters.\n",
    "knn = KNeighborsClassifier(n_neighbors=64)\n",
    "\n",
    "# Re-train the model with X and y \n",
    "knn.fit(X, y)\n",
    "\n",
    "knn.predict(np.array([0, 1, 31]).reshape(1, -1))"
   ]
  },
  {
   "cell_type": "markdown",
   "metadata": {},
   "source": [
    "### Union - N, Gender - F, Age 31"
   ]
  },
  {
   "cell_type": "code",
   "execution_count": 68,
   "metadata": {},
   "outputs": [
    {
     "data": {
      "text/plain": [
       "array([0], dtype=uint8)"
      ]
     },
     "execution_count": 68,
     "metadata": {},
     "output_type": "execute_result"
    }
   ],
   "source": [
    "# Instantiate the model with the best-known parameters.\n",
    "knn = KNeighborsClassifier(n_neighbors=64)\n",
    "\n",
    "# Re-train the model with X and y\n",
    "knn.fit(X, y)\n",
    "\n",
    "knn.predict(np.array([0, 0, 31]).reshape(1, -1))"
   ]
  }
 ],
 "metadata": {
  "kernelspec": {
   "display_name": "Python 3",
   "language": "python",
   "name": "python3"
  },
  "language_info": {
   "codemirror_mode": {
    "name": "ipython",
    "version": 3
   },
   "file_extension": ".py",
   "mimetype": "text/x-python",
   "name": "python",
   "nbconvert_exporter": "python",
   "pygments_lexer": "ipython3",
   "version": "3.7.0"
  }
 },
 "nbformat": 4,
 "nbformat_minor": 2
}
